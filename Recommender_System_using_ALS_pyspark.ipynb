{
  "nbformat": 4,
  "nbformat_minor": 0,
  "metadata": {
    "colab": {
      "provenance": [],
      "mount_file_id": "15Fi9Qoj5ht5Gj50Yoi2xXg4BDBBarJGL",
      "authorship_tag": "ABX9TyN0/bD8UW+guG2i6AdleALg",
      "include_colab_link": true
    },
    "kernelspec": {
      "name": "python3",
      "display_name": "Python 3"
    },
    "language_info": {
      "name": "python"
    }
  },
  "cells": [
    {
      "cell_type": "markdown",
      "metadata": {
        "id": "view-in-github",
        "colab_type": "text"
      },
      "source": [
        "<a href=\"https://colab.research.google.com/github/SandeepMLDLNPL/Machine_Learning_Models/blob/main/Recommender_System_using_ALS_pyspark.ipynb\" target=\"_parent\"><img src=\"https://colab.research.google.com/assets/colab-badge.svg\" alt=\"Open In Colab\"/></a>"
      ]
    },
    {
      "cell_type": "code",
      "source": [
        "!pip install pyspark"
      ],
      "metadata": {
        "id": "SBT6vvDiK9Sa"
      },
      "execution_count": null,
      "outputs": []
    },
    {
      "cell_type": "markdown",
      "source": [
        "link of Dataset:\n",
        "https://sites.google.com/site/limkwanhui/datacode"
      ],
      "metadata": {
        "id": "QbTvM-Zp-fhm"
      }
    },
    {
      "cell_type": "code",
      "source": [
        "pip install findspark"
      ],
      "metadata": {
        "id": "KQZdi5ayje8_"
      },
      "execution_count": null,
      "outputs": []
    },
    {
      "cell_type": "code",
      "source": [
        "import findspark\n",
        "findspark.init()"
      ],
      "metadata": {
        "id": "Wr91w2hyjYK2"
      },
      "execution_count": 112,
      "outputs": []
    },
    {
      "cell_type": "code",
      "source": [
        "import pyspark\n",
        "from pyspark.sql import SparkSession"
      ],
      "metadata": {
        "id": "TOKPDeFwLHZa"
      },
      "execution_count": 113,
      "outputs": []
    },
    {
      "cell_type": "code",
      "source": [
        "spark = SparkSession.builder.appName('Recommender_System').getOrCreate()"
      ],
      "metadata": {
        "id": "-Uqm6y4jMilY"
      },
      "execution_count": 114,
      "outputs": []
    },
    {
      "cell_type": "code",
      "source": [
        "poi_df = spark.read.csv('/content/drive/MyDrive/data-sigir17/poiList-sigir17',header=True,inferSchema = True,sep=\";\")"
      ],
      "metadata": {
        "id": "BSTjv1AQMvF4"
      },
      "execution_count": 115,
      "outputs": []
    },
    {
      "cell_type": "code",
      "source": [
        "poi_df.show(5)"
      ],
      "metadata": {
        "colab": {
          "base_uri": "https://localhost:8080/"
        },
        "id": "ukg27XXbM6uk",
        "outputId": "acbec8e9-8f0f-416b-ceb8-837c43ec287a"
      },
      "execution_count": 116,
      "outputs": [
        {
          "output_type": "stream",
          "name": "stdout",
          "text": [
            "+-----+--------------------+---------+-----------+------------+-------------+--------------+------+------+\n",
            "|poiID|             poiName|      lat|       long|rideDuration|        theme|        theme2|theme3|theme4|\n",
            "+-----+--------------------+---------+-----------+------------+-------------+--------------+------+------+\n",
            "|    1| Gadget's Go Coaster|33.810259|-117.918438|         1.0|       Kiddie|Roller Coaster|  null|  null|\n",
            "|    2|       Astro Orbitor|28.418532| -81.579153|         1.5|Spinning Ride|          null|  null|  null|\n",
            "|    3|       Mad Tea Party|33.813458|-117.918289|         1.5|       Family| Spinning Ride|  null|  null|\n",
            "|    4|Dumbo the Flying ...| 33.81368|-117.918928|        1.67|       Family| Spinning Ride|  null|  null|\n",
            "|    5|Mr. Toad's Wild Ride|33.813311|-117.918697|         2.0|         Dark|          Ride|  null|Indoor|\n",
            "+-----+--------------------+---------+-----------+------------+-------------+--------------+------+------+\n",
            "only showing top 5 rows\n",
            "\n"
          ]
        }
      ]
    },
    {
      "cell_type": "code",
      "source": [
        "visits_df = spark.read.csv('/content/drive/MyDrive/data-sigir17/userVisits-sigir17',header=True,inferSchema=True, sep=';')\n"
      ],
      "metadata": {
        "id": "y3udotUtM_Gx"
      },
      "execution_count": 117,
      "outputs": []
    },
    {
      "cell_type": "code",
      "source": [
        "visits_df.show(10)"
      ],
      "metadata": {
        "colab": {
          "base_uri": "https://localhost:8080/"
        },
        "id": "WdybR21JN1aI",
        "outputId": "0ce50310-75f1-48fe-ec6f-33d3c77555e4"
      },
      "execution_count": 118,
      "outputs": [
        {
          "output_type": "stream",
          "name": "stdout",
          "text": [
            "+-----------+-------------+----------+-----+--------+-------+------------+-----+\n",
            "|         id|         nsid| takenUnix|poiID|poiTheme|poiFreq|rideDuration|seqID|\n",
            "+-----------+-------------+----------+-----+--------+-------+------------+-----+\n",
            "| 5858403310| 10004778@N07|1308262550|    6|    Ride|   1665|       120.0|    1|\n",
            "| 5857850631| 10004778@N07|1308270702|   26|  Family|  18710|       900.0|    1|\n",
            "| 5858399220| 10004778@N07|1308631356|    6|    Ride|   1665|       120.0|    2|\n",
            "| 8277294024| 10004778@N07|1355568624|   26|  Family|  18710|       900.0|    3|\n",
            "| 9219062165| 10004778@N07|1373030964|   29|   Water|  10427|       900.0|    4|\n",
            "| 5286317993| 10024109@N08|1283735402|   26|  Family|  18710|       900.0|    5|\n",
            "| 5286320839| 10024109@N08|1283735452|   26|  Family|  18710|       900.0|    5|\n",
            "| 5286923898| 10024109@N08|1283745187|   26|  Family|  18710|       900.0|    5|\n",
            "| 5286326049| 10024109@N08|1283753756|   26|  Family|  18710|       900.0|    5|\n",
            "|14979055621|100373287@N02|1407459897|   28|  Family|  16366|       900.0|    6|\n",
            "+-----------+-------------+----------+-----+--------+-------+------------+-----+\n",
            "only showing top 10 rows\n",
            "\n"
          ]
        }
      ]
    },
    {
      "cell_type": "code",
      "source": [
        "sample_df = visits_df.limit(1000).toPandas()\n",
        "sample_df.describe()"
      ],
      "metadata": {
        "colab": {
          "base_uri": "https://localhost:8080/",
          "height": 300
        },
        "id": "MJXoCw8EN7NC",
        "outputId": "e2d6c7e4-7a3e-4c73-be60-48c31293f7b0"
      },
      "execution_count": 119,
      "outputs": [
        {
          "output_type": "execute_result",
          "data": {
            "text/plain": [
              "             poiID       poiFreq  rideDuration        seqID\n",
              "count  1000.000000   1000.000000   1000.000000  1000.000000\n",
              "mean     20.785000   7764.625000    625.260600    50.349000\n",
              "std       8.138243   6233.964628    324.947216    20.027838\n",
              "min       1.000000    580.000000     60.000000     1.000000\n",
              "25%      15.000000   2757.000000    270.000000    33.000000\n",
              "50%      23.000000   4082.000000    600.000000    56.000000\n",
              "75%      28.000000  16366.000000    900.000000    69.000000\n",
              "max      31.000000  18710.000000   1500.000000    73.000000"
            ],
            "text/html": [
              "\n",
              "  <div id=\"df-43c55cf6-1857-4429-9239-d8cdf6581e58\">\n",
              "    <div class=\"colab-df-container\">\n",
              "      <div>\n",
              "<style scoped>\n",
              "    .dataframe tbody tr th:only-of-type {\n",
              "        vertical-align: middle;\n",
              "    }\n",
              "\n",
              "    .dataframe tbody tr th {\n",
              "        vertical-align: top;\n",
              "    }\n",
              "\n",
              "    .dataframe thead th {\n",
              "        text-align: right;\n",
              "    }\n",
              "</style>\n",
              "<table border=\"1\" class=\"dataframe\">\n",
              "  <thead>\n",
              "    <tr style=\"text-align: right;\">\n",
              "      <th></th>\n",
              "      <th>poiID</th>\n",
              "      <th>poiFreq</th>\n",
              "      <th>rideDuration</th>\n",
              "      <th>seqID</th>\n",
              "    </tr>\n",
              "  </thead>\n",
              "  <tbody>\n",
              "    <tr>\n",
              "      <th>count</th>\n",
              "      <td>1000.000000</td>\n",
              "      <td>1000.000000</td>\n",
              "      <td>1000.000000</td>\n",
              "      <td>1000.000000</td>\n",
              "    </tr>\n",
              "    <tr>\n",
              "      <th>mean</th>\n",
              "      <td>20.785000</td>\n",
              "      <td>7764.625000</td>\n",
              "      <td>625.260600</td>\n",
              "      <td>50.349000</td>\n",
              "    </tr>\n",
              "    <tr>\n",
              "      <th>std</th>\n",
              "      <td>8.138243</td>\n",
              "      <td>6233.964628</td>\n",
              "      <td>324.947216</td>\n",
              "      <td>20.027838</td>\n",
              "    </tr>\n",
              "    <tr>\n",
              "      <th>min</th>\n",
              "      <td>1.000000</td>\n",
              "      <td>580.000000</td>\n",
              "      <td>60.000000</td>\n",
              "      <td>1.000000</td>\n",
              "    </tr>\n",
              "    <tr>\n",
              "      <th>25%</th>\n",
              "      <td>15.000000</td>\n",
              "      <td>2757.000000</td>\n",
              "      <td>270.000000</td>\n",
              "      <td>33.000000</td>\n",
              "    </tr>\n",
              "    <tr>\n",
              "      <th>50%</th>\n",
              "      <td>23.000000</td>\n",
              "      <td>4082.000000</td>\n",
              "      <td>600.000000</td>\n",
              "      <td>56.000000</td>\n",
              "    </tr>\n",
              "    <tr>\n",
              "      <th>75%</th>\n",
              "      <td>28.000000</td>\n",
              "      <td>16366.000000</td>\n",
              "      <td>900.000000</td>\n",
              "      <td>69.000000</td>\n",
              "    </tr>\n",
              "    <tr>\n",
              "      <th>max</th>\n",
              "      <td>31.000000</td>\n",
              "      <td>18710.000000</td>\n",
              "      <td>1500.000000</td>\n",
              "      <td>73.000000</td>\n",
              "    </tr>\n",
              "  </tbody>\n",
              "</table>\n",
              "</div>\n",
              "      <button class=\"colab-df-convert\" onclick=\"convertToInteractive('df-43c55cf6-1857-4429-9239-d8cdf6581e58')\"\n",
              "              title=\"Convert this dataframe to an interactive table.\"\n",
              "              style=\"display:none;\">\n",
              "        \n",
              "  <svg xmlns=\"http://www.w3.org/2000/svg\" height=\"24px\"viewBox=\"0 0 24 24\"\n",
              "       width=\"24px\">\n",
              "    <path d=\"M0 0h24v24H0V0z\" fill=\"none\"/>\n",
              "    <path d=\"M18.56 5.44l.94 2.06.94-2.06 2.06-.94-2.06-.94-.94-2.06-.94 2.06-2.06.94zm-11 1L8.5 8.5l.94-2.06 2.06-.94-2.06-.94L8.5 2.5l-.94 2.06-2.06.94zm10 10l.94 2.06.94-2.06 2.06-.94-2.06-.94-.94-2.06-.94 2.06-2.06.94z\"/><path d=\"M17.41 7.96l-1.37-1.37c-.4-.4-.92-.59-1.43-.59-.52 0-1.04.2-1.43.59L10.3 9.45l-7.72 7.72c-.78.78-.78 2.05 0 2.83L4 21.41c.39.39.9.59 1.41.59.51 0 1.02-.2 1.41-.59l7.78-7.78 2.81-2.81c.8-.78.8-2.07 0-2.86zM5.41 20L4 18.59l7.72-7.72 1.47 1.35L5.41 20z\"/>\n",
              "  </svg>\n",
              "      </button>\n",
              "      \n",
              "  <style>\n",
              "    .colab-df-container {\n",
              "      display:flex;\n",
              "      flex-wrap:wrap;\n",
              "      gap: 12px;\n",
              "    }\n",
              "\n",
              "    .colab-df-convert {\n",
              "      background-color: #E8F0FE;\n",
              "      border: none;\n",
              "      border-radius: 50%;\n",
              "      cursor: pointer;\n",
              "      display: none;\n",
              "      fill: #1967D2;\n",
              "      height: 32px;\n",
              "      padding: 0 0 0 0;\n",
              "      width: 32px;\n",
              "    }\n",
              "\n",
              "    .colab-df-convert:hover {\n",
              "      background-color: #E2EBFA;\n",
              "      box-shadow: 0px 1px 2px rgba(60, 64, 67, 0.3), 0px 1px 3px 1px rgba(60, 64, 67, 0.15);\n",
              "      fill: #174EA6;\n",
              "    }\n",
              "\n",
              "    [theme=dark] .colab-df-convert {\n",
              "      background-color: #3B4455;\n",
              "      fill: #D2E3FC;\n",
              "    }\n",
              "\n",
              "    [theme=dark] .colab-df-convert:hover {\n",
              "      background-color: #434B5C;\n",
              "      box-shadow: 0px 1px 3px 1px rgba(0, 0, 0, 0.15);\n",
              "      filter: drop-shadow(0px 1px 2px rgba(0, 0, 0, 0.3));\n",
              "      fill: #FFFFFF;\n",
              "    }\n",
              "  </style>\n",
              "\n",
              "      <script>\n",
              "        const buttonEl =\n",
              "          document.querySelector('#df-43c55cf6-1857-4429-9239-d8cdf6581e58 button.colab-df-convert');\n",
              "        buttonEl.style.display =\n",
              "          google.colab.kernel.accessAllowed ? 'block' : 'none';\n",
              "\n",
              "        async function convertToInteractive(key) {\n",
              "          const element = document.querySelector('#df-43c55cf6-1857-4429-9239-d8cdf6581e58');\n",
              "          const dataTable =\n",
              "            await google.colab.kernel.invokeFunction('convertToInteractive',\n",
              "                                                     [key], {});\n",
              "          if (!dataTable) return;\n",
              "\n",
              "          const docLinkHtml = 'Like what you see? Visit the ' +\n",
              "            '<a target=\"_blank\" href=https://colab.research.google.com/notebooks/data_table.ipynb>data table notebook</a>'\n",
              "            + ' to learn more about interactive tables.';\n",
              "          element.innerHTML = '';\n",
              "          dataTable['output_type'] = 'display_data';\n",
              "          await google.colab.output.renderOutput(dataTable, element);\n",
              "          const docLink = document.createElement('div');\n",
              "          docLink.innerHTML = docLinkHtml;\n",
              "          element.appendChild(docLink);\n",
              "        }\n",
              "      </script>\n",
              "    </div>\n",
              "  </div>\n",
              "  "
            ]
          },
          "metadata": {},
          "execution_count": 119
        }
      ]
    },
    {
      "cell_type": "markdown",
      "source": [
        "We need to have enough entries per user to ensure we have enough\n",
        "information about users to make predictions. Furthermore, it's actually more relevant to\n",
        "know whether users visit different attractions."
      ],
      "metadata": {
        "id": "GghwAH7fOMIE"
      }
    },
    {
      "cell_type": "code",
      "source": [
        "poi_df.createOrReplaceTempView('points')\n",
        "visits_df.createOrReplaceTempView('visits')"
      ],
      "metadata": {
        "id": "Zu1GXaThVG2D"
      },
      "execution_count": 120,
      "outputs": []
    },
    {
      "cell_type": "markdown",
      "source": [
        "we can do queries, such as finding the number of unique\n",
        "attractions"
      ],
      "metadata": {
        "id": "JRYdepgYQ5On"
      }
    },
    {
      "cell_type": "code",
      "source": [
        "spark.sql('select distinct poiID from visits').count()"
      ],
      "metadata": {
        "colab": {
          "base_uri": "https://localhost:8080/"
        },
        "id": "Yzfuu1gGO5cT",
        "outputId": "fd22f85c-82bf-4db9-ef8b-363d16561f1a"
      },
      "execution_count": 121,
      "outputs": [
        {
          "output_type": "execute_result",
          "data": {
            "text/plain": [
              "32"
            ]
          },
          "metadata": {},
          "execution_count": 121
        }
      ]
    },
    {
      "cell_type": "code",
      "source": [
        "spark.sql('select nsid,count(distinct poiID) as cnt from visits group by nsid ').describe().show()"
      ],
      "metadata": {
        "colab": {
          "base_uri": "https://localhost:8080/"
        },
        "id": "V-5zZSTQPDxW",
        "outputId": "c834b097-0aec-4a7d-dd0c-575528be9c7f"
      },
      "execution_count": 122,
      "outputs": [
        {
          "output_type": "stream",
          "name": "stdout",
          "text": [
            "+-------+--------------------+------------------+\n",
            "|summary|                nsid|               cnt|\n",
            "+-------+--------------------+------------------+\n",
            "|  count|                8904|              8905|\n",
            "|   mean|                null|4.8591802358225715|\n",
            "| stddev|                null| 5.965359459316309|\n",
            "|    min| (ii) then mapped...|                 0|\n",
            "|    max|        99987318@N03|                31|\n",
            "+-------+--------------------+------------------+\n",
            "\n"
          ]
        }
      ]
    },
    {
      "cell_type": "markdown",
      "source": [
        "The preceding SQL command finds the number of distinct attractions each user visits. The\n",
        "describe dataset operation finds statistics on these users, which tells us that, on average,\n",
        "users visit about five different locations. "
      ],
      "metadata": {
        "id": "ZP0PPufUQrC3"
      }
    },
    {
      "cell_type": "code",
      "source": [
        "spark.sql('select nsid,poiID,count(*) from visits group by nsid,poiID ').describe().show()"
      ],
      "metadata": {
        "colab": {
          "base_uri": "https://localhost:8080/"
        },
        "id": "9wjeru7yPkh6",
        "outputId": "af943302-3d82-4f44-ac63-514c625e217f"
      },
      "execution_count": 123,
      "outputs": [
        {
          "output_type": "stream",
          "name": "stdout",
          "text": [
            "+-------+--------------------+------------------+-----------------+\n",
            "|summary|                nsid|             poiID|         count(1)|\n",
            "+-------+--------------------+------------------+-----------------+\n",
            "|  count|               43272|             43271|            43273|\n",
            "|   mean|                null|14.920061935245315| 7.67492431770388|\n",
            "| stddev|                null| 8.437883931275127|52.92985818263355|\n",
            "|    min| (ii) then mapped...|                 1|                1|\n",
            "|    max|        99987318@N03|                31|             4128|\n",
            "+-------+--------------------+------------------+-----------------+\n",
            "\n"
          ]
        }
      ]
    },
    {
      "cell_type": "markdown",
      "source": [
        "The SQL command counts the number of entries for each user and attraction, and then we\n",
        "find a statistical summary using the describe. We can conclude therefore that on average,\n",
        "each user takes about eight pictures at every location they visit.\n"
      ],
      "metadata": {
        "id": "rD4L3ms7QtS5"
      }
    },
    {
      "cell_type": "markdown",
      "source": [
        "##Training the model\n"
      ],
      "metadata": {
        "id": "hZfaCPqeQ-eE"
      }
    },
    {
      "cell_type": "markdown",
      "source": [
        "To train our model, we will construct a dataset that computes the number of photos taken\n",
        "by each user at each location:"
      ],
      "metadata": {
        "id": "g5dVbZA1RHU6"
      }
    },
    {
      "cell_type": "code",
      "source": [
        "train_df = spark.sql('select hash(nsid) as user_hash_id, hash(poiID) as poi_hash_id, count(*) as \\\n",
        "pictures_taken from visits group by 1,2')\n"
      ],
      "metadata": {
        "id": "QofBSvwyQWdC"
      },
      "execution_count": 135,
      "outputs": []
    },
    {
      "cell_type": "markdown",
      "source": [
        "We hash the user because the ALS trainer just supports numerical values as features"
      ],
      "metadata": {
        "id": "f1suknbfnPpZ"
      }
    },
    {
      "cell_type": "markdown",
      "source": [
        "we simply need to construct an instance of ALS and provide the user column, item column (in this case the attraction IDs), and the rating column (in this case, pictures_takes is used as a proxy for rating). coldStartStrategy is set to drop as we're not interested in making predictions for users or attractions not present in the dataset (that is, predictions for such entries will be dropped rather than returning NaN):"
      ],
      "metadata": {
        "id": "_GjawKyVnaTp"
      }
    },
    {
      "cell_type": "code",
      "source": [
        "from pyspark.ml.recommendation import ALS\n",
        "recommender = ALS(userCol=\"user_hash_id\",\n",
        " itemCol=\"poi_hash_id\",\n",
        " ratingCol=\"pictures_taken\",\n",
        " coldStartStrategy=\"drop\")\n",
        "model = recommender.fit(train_df)\n"
      ],
      "metadata": {
        "id": "aEmE4siOmte2"
      },
      "execution_count": 136,
      "outputs": []
    },
    {
      "cell_type": "code",
      "source": [
        "recommendations = model.recommendForAllUsers(10).show(10)"
      ],
      "metadata": {
        "colab": {
          "base_uri": "https://localhost:8080/"
        },
        "id": "tzozBvrmTC0i",
        "outputId": "c476e3db-4933-4bfc-c61c-084ddcaccc01"
      },
      "execution_count": 139,
      "outputs": [
        {
          "output_type": "stream",
          "name": "stdout",
          "text": [
            "+------------+--------------------+\n",
            "|user_hash_id|     recommendations|\n",
            "+------------+--------------------+\n",
            "| -2147481344|[{-132918897, 3.9...|\n",
            "| -2146859726|[{-132918897, 9.4...|\n",
            "| -2144420948|[{-1721654386, 13...|\n",
            "| -2144286583|[{-554124381, 0.9...|\n",
            "| -2143637621|[{972445202, 10.1...|\n",
            "| -2142919823|[{-768484170, 2.9...|\n",
            "| -2142858516|[{972445202, 46.7...|\n",
            "| -2142523578|[{-1223696181, 39...|\n",
            "| -2142192636|[{-554124381, 32....|\n",
            "| -2141088717|[{-768484170, 2.5...|\n",
            "+------------+--------------------+\n",
            "only showing top 10 rows\n",
            "\n"
          ]
        }
      ]
    },
    {
      "cell_type": "code",
      "source": [
        "row_list = spark.sql('select distinct p.poiName, p.poiID from visits v join \\\n",
        "points p on (p.poiID=v.poiID) ').collect()\n",
        "id_to_poi_name = dict(map(lambda x: (x.poiID, x.poiName), row_list))\n",
        "row_list[1:5]\n"
      ],
      "metadata": {
        "colab": {
          "base_uri": "https://localhost:8080/"
        },
        "id": "fkI-lvTcnr8k",
        "outputId": "4ad46ed7-6391-4423-9846-47d970247059"
      },
      "execution_count": 145,
      "outputs": [
        {
          "output_type": "execute_result",
          "data": {
            "text/plain": [
              "[Row(poiName='O Canada!', poiID=10),\n",
              " Row(poiName='Big Thunder Mountain Railroad', poiID=19),\n",
              " Row(poiName='Turtle Talk with Crush', poiID=22),\n",
              " Row(poiName='The Many Adventures of Winnie the Pooh', poiID=9)]"
            ]
          },
          "metadata": {},
          "execution_count": 145
        }
      ]
    },
    {
      "cell_type": "markdown",
      "source": [
        "we will construct a\n",
        "dictionary of IDs to attraction names (point of interest names) by collecting the result of a\n",
        "query that finds the name of each attraction in the points table:"
      ],
      "metadata": {
        "id": "La78jdno24kX"
      }
    },
    {
      "cell_type": "code",
      "source": [
        "row_list = spark.sql('select distinct p.poiName,p.poiID from visits v join \\\n",
        "                       points p on (p.poiID = v.poiID)').collect()\n",
        "id_to_poiName = dict(map(lambda x: (x.poiID,x.poiName),row_list))\n",
        "id_to_poiName"
      ],
      "metadata": {
        "colab": {
          "base_uri": "https://localhost:8080/"
        },
        "id": "dmp4pE6YpCF1",
        "outputId": "b40a4af9-139e-4961-b9c6-3a8fff401f5b"
      },
      "execution_count": 149,
      "outputs": [
        {
          "output_type": "execute_result",
          "data": {
            "text/plain": [
              "{1: 'Test Track',\n",
              " 10: 'Golden Zephyr',\n",
              " 19: \"Tarzan's Treehouse\",\n",
              " 22: 'Country Bear Jamboree',\n",
              " 9: \"Pinocchio's Daring Journey\",\n",
              " 21: 'Red Car Trolley & News Boys',\n",
              " 13: 'Haunted Mansion',\n",
              " 26: 'Sleeping Beauty Castle Walkthrough',\n",
              " 8: 'The Great Movie Ride',\n",
              " 12: \"It's A Small World\",\n",
              " 20: 'Splash Mountain',\n",
              " 29: 'Pirates of the Caribbean',\n",
              " 16: 'Buzz Lightyear Astro Blasters',\n",
              " 25: \"It's A Small World\",\n",
              " 14: 'The Many Adventures of Winnie the Pooh',\n",
              " 11: \"California Screamin'\",\n",
              " 15: 'The Twilight Zone Tower of Terror',\n",
              " 3: \"Soarin'\",\n",
              " 4: 'Journey Into Imagination With Figment',\n",
              " 24: 'Jungle Cruise',\n",
              " 2: 'Astro Orbiter',\n",
              " 5: 'Silly Symphony Swings',\n",
              " 6: \"Snow White's Scary Adventures\",\n",
              " 30: 'Mark Twain Riverboat',\n",
              " 28: 'Main Street Cinema',\n",
              " 7: 'Voyage of The Little Mermaid',\n",
              " 23: 'Redwood Creek Challenge Trail',\n",
              " 18: 'Tom Sawyer Island',\n",
              " 27: 'Walt Disney World Railroad',\n",
              " 17: 'Rose & Crown Pub Musician',\n",
              " 31: 'Fantasmic!'}"
            ]
          },
          "metadata": {},
          "execution_count": 149
        }
      ]
    },
    {
      "cell_type": "code",
      "source": [],
      "metadata": {
        "id": "MhygSb1Z4Zuv"
      },
      "execution_count": null,
      "outputs": []
    }
  ]
}