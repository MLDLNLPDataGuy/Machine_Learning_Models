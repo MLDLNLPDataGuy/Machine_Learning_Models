{
  "nbformat": 4,
  "nbformat_minor": 0,
  "metadata": {
    "colab": {
      "provenance": [],
      "authorship_tag": "ABX9TyME1eElp13+jG/QM3+xLAA2",
      "include_colab_link": true
    },
    "kernelspec": {
      "name": "python3",
      "display_name": "Python 3"
    },
    "language_info": {
      "name": "python"
    }
  },
  "cells": [
    {
      "cell_type": "markdown",
      "metadata": {
        "id": "view-in-github",
        "colab_type": "text"
      },
      "source": [
        "<a href=\"https://colab.research.google.com/github/Sandeep-ML-DL-NLP/Machine_Learning_Models/blob/main/dnn_classifier.ipynb\" target=\"_parent\"><img src=\"https://colab.research.google.com/assets/colab-badge.svg\" alt=\"Open In Colab\"/></a>"
      ]
    },
    {
      "cell_type": "code",
      "execution_count": null,
      "metadata": {
        "id": "wSRx6-e5M94j"
      },
      "outputs": [],
      "source": [
        "import tensorflow as tf \n",
        "from sklearn import datasets"
      ]
    },
    {
      "cell_type": "code",
      "source": [
        "digits = datasets.load_digits()"
      ],
      "metadata": {
        "id": "QetqJ0mgNvPz"
      },
      "execution_count": null,
      "outputs": []
    },
    {
      "cell_type": "code",
      "source": [
        "import matplotlib.pyplot as plt \n",
        "plt.figure(figsize = (1,1))\n",
        "fig,ax = plt.subplots(1,4)\n",
        "ax[0].imshow(digits.images[0])\n",
        "ax[1].imshow(digits.images[1])\n",
        "ax[2].imshow(digits.images[2])\n",
        "ax[3].imshow(digits.images[3])"
      ],
      "metadata": {
        "colab": {
          "base_uri": "https://localhost:8080/",
          "height": 156
        },
        "id": "ZHkint9mOBKk",
        "outputId": "ba805788-47fd-4091-8aaa-aea79598ac6d"
      },
      "execution_count": null,
      "outputs": [
        {
          "output_type": "execute_result",
          "data": {
            "text/plain": [
              "<matplotlib.image.AxesImage at 0x7f6f9e146c40>"
            ]
          },
          "metadata": {},
          "execution_count": 33
        },
        {
          "output_type": "display_data",
          "data": {
            "text/plain": [
              "<Figure size 72x72 with 0 Axes>"
            ]
          },
          "metadata": {}
        },
        {
          "output_type": "display_data",
          "data": {
            "text/plain": [
              "<Figure size 432x288 with 4 Axes>"
            ],
            "image/png": "[encoded data removed]"
          },
          "metadata": {
            "needs_background": "light"
          }
        }
      ]
    },
    {
      "cell_type": "code",
      "source": [
        "digits.images.shape"
      ],
      "metadata": {
        "colab": {
          "base_uri": "https://localhost:8080/"
        },
        "id": "P0vHJ0eJYTL7",
        "outputId": "9120ea2d-03cc-406e-90cc-33dcd628784b"
      },
      "execution_count": null,
      "outputs": [
        {
          "output_type": "execute_result",
          "data": {
            "text/plain": [
              "(1797, 8, 8)"
            ]
          },
          "metadata": {},
          "execution_count": 34
        }
      ]
    },
    {
      "cell_type": "code",
      "source": [
        "n_samples = len(digits.images)\n",
        "n_samples\n",
        "data = digits.images.reshape(n_samples,-1)\n",
        "data.shape"
      ],
      "metadata": {
        "colab": {
          "base_uri": "https://localhost:8080/"
        },
        "id": "GIvn5vdWOMC3",
        "outputId": "27f3f181-3694-43be-90f0-861397a65dab"
      },
      "execution_count": null,
      "outputs": [
        {
          "output_type": "execute_result",
          "data": {
            "text/plain": [
              "(1797, 64)"
            ]
          },
          "metadata": {},
          "execution_count": 35
        }
      ]
    },
    {
      "cell_type": "code",
      "source": [
        "from sklearn.model_selection import train_test_split\n",
        "x_train,x_test,y_train,y_test = train_test_split(data,digits.target,test_size = 0.05,shuffle = False)"
      ],
      "metadata": {
        "id": "Nsa-QT8UXy0l"
      },
      "execution_count": null,
      "outputs": []
    },
    {
      "cell_type": "code",
      "source": [
        "# Estimator Input Function\n",
        "# create column names for our model input function\n",
        "columns = ['p_'+ str(i) for i in range(1,65)]\n",
        "feature_column = []\n",
        "for col in columns:\n",
        "  feature_column.append(tf.feature_column.numeric_column(key = col))\n",
        "def input_fn(features,labels,training = True,batch_size = 32):\n",
        "  dataset = tf.data.Dataset.from_tensor_slices((dict(features),labels))\n",
        "  if training:\n",
        "    dataset = dataset.shuffle(1000).repeat()\n",
        "  return dataset.batch(batch_size)"
      ],
      "metadata": {
        "id": "P8FkDT-hY_sK"
      },
      "execution_count": null,
      "outputs": []
    },
    {
      "cell_type": "code",
      "source": [
        "classifier = tf.estimator.DNNClassifier(hidden_units = [256, 128, 64],\n",
        "                                        feature_columns = feature_column,\n",
        "                                        optimizer = 'Adagrad',\n",
        "                                        n_classes = 10,\n",
        "                                        model_dir = 'classifier')"
      ],
      "metadata": {
        "id": "F_biFeYRZpIx"
      },
      "execution_count": null,
      "outputs": []
    },
    {
      "cell_type": "code",
      "source": [
        "# create dataframes for training\n",
        "import pandas as pd\n",
        "dftrain = pd.DataFrame(x_train, columns = columns) "
      ],
      "metadata": {
        "id": "NLiUD4XfdGna"
      },
      "execution_count": null,
      "outputs": []
    },
    {
      "cell_type": "code",
      "source": [
        "classifier.train(input_fn = lambda:input_fn(dftrain, \n",
        "                                            y_train, \n",
        "                                            training = True),\n",
        "                                            steps = 2000)"
      ],
      "metadata": {
        "colab": {
          "base_uri": "https://localhost:8080/"
        },
        "id": "256P0n8JdQ2E",
        "outputId": "28ec0f40-d6ec-4250-e1ca-5ad0ad003d7f"
      },
      "execution_count": null,
      "outputs": [
        {
          "output_type": "stream",
          "name": "stderr",
          "text": [
            "WARNING:tensorflow:From /usr/local/lib/python3.9/dist-packages/tensorflow/python/training/training_util.py:396: Variable.initialized_value (from tensorflow.python.ops.variables) is deprecated and will be removed in a future version.\n",
            "Instructions for updating:\n",
            "Use Variable.read_value. Variables in 2.X are initialized automatically both in eager and graph (inside tf.defun) contexts.\n",
            "WARNING:tensorflow:From /usr/local/lib/python3.9/dist-packages/keras/optimizers/optimizer_v2/adagrad.py:93: calling Constant.__init__ (from tensorflow.python.ops.init_ops) with dtype is deprecated and will be removed in a future version.\n",
            "Instructions for updating:\n",
            "Call initializer instance with the dtype argument instead of passing it to the constructor\n"
          ]
        },
        {
          "output_type": "execute_result",
          "data": {
            "text/plain": [
              "<tensorflow_estimator.python.estimator.canned.dnn.DNNClassifierV2 at 0x7f6f9e52cb20>"
            ]
          },
          "metadata": {},
          "execution_count": 44
        }
      ]
    },
    {
      "cell_type": "code",
      "source": [
        "dftest = pd.DataFrame(x_test, columns = columns)"
      ],
      "metadata": {
        "id": "R99a_GSvdb8A"
      },
      "execution_count": null,
      "outputs": []
    },
    {
      "cell_type": "code",
      "source": [
        "eval_result = classifier.evaluate(\n",
        "    input_fn = lambda:input_fn(dftest, y_test, training = False)\n",
        ")"
      ],
      "metadata": {
        "id": "Qx765-3HdkMv"
      },
      "execution_count": null,
      "outputs": []
    },
    {
      "cell_type": "code",
      "source": [
        "eval_result"
      ],
      "metadata": {
        "colab": {
          "base_uri": "https://localhost:8080/"
        },
        "id": "vaHpEgb7duuD",
        "outputId": "bb050edc-7b0d-43d3-bbb6-df9c9cd76961"
      },
      "execution_count": null,
      "outputs": [
        {
          "output_type": "execute_result",
          "data": {
            "text/plain": [
              "{'accuracy': 0.9444444,\n",
              " 'average_loss': 0.15425079,\n",
              " 'loss': 0.15070999,\n",
              " 'global_step': 2000}"
            ]
          },
          "metadata": {},
          "execution_count": 47
        }
      ]
    },
    {
      "cell_type": "code",
      "source": [
        "# An input function for prediction\n",
        "def pred_input_fn(features, batch_size = 32):\n",
        "    # Convert the inputs to a Dataset without labels.\n",
        "    return tf.data.Dataset.from_tensor_slices(dict(features)).batch(batch_size)\n",
        "     \n",
        "test = dftest.iloc[:2,:] #1st two data points for predictions \n",
        "expected = y_test[:2].tolist() #expected labels\n",
        "pred = list(classifier.predict(\n",
        "    input_fn =  lambda:pred_input_fn(test))\n",
        ")"
      ],
      "metadata": {
        "id": "-ER6ciYJd9ah"
      },
      "execution_count": null,
      "outputs": []
    },
    {
      "cell_type": "code",
      "source": [
        "for pred_dict, expec in zip(pred, expected):\n",
        "    class_id = pred_dict['class_ids'][0]\n",
        "    probability = pred_dict['probabilities'][class_id]\n",
        "    print('predicted class {} , probability of prediction {} , expected label {}'.format(class_id,probability,expec))"
      ],
      "metadata": {
        "colab": {
          "base_uri": "https://localhost:8080/"
        },
        "id": "VpLg-GSjee2R",
        "outputId": "3f8136e1-117b-4bd0-b871-0badb5b41564"
      },
      "execution_count": null,
      "outputs": [
        {
          "output_type": "stream",
          "name": "stdout",
          "text": [
            "predicted class 8 , probability of prediction 0.9581747055053711 , expected label 8\n",
            "predicted class 4 , probability of prediction 0.9770480394363403 , expected label 4\n"
          ]
        }
      ]
    }
  ]
}