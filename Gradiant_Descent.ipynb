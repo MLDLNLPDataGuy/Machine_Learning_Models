{
  "nbformat": 4,
  "nbformat_minor": 0,
  "metadata": {
    "colab": {
      "provenance": [],
      "authorship_tag": "ABX9TyPNn0D+AgpsNAspoKaSCJNs",
      "include_colab_link": true
    },
    "kernelspec": {
      "name": "python3",
      "display_name": "Python 3"
    },
    "language_info": {
      "name": "python"
    }
  },
  "cells": [
    {
      "cell_type": "markdown",
      "metadata": {
        "id": "view-in-github",
        "colab_type": "text"
      },
      "source": [
        "<a href=\"https://colab.research.google.com/github/SandeepMLDLNPL/Machine_Learning_Models/blob/main/Gradiant_Descent.ipynb\" target=\"_parent\"><img src=\"https://colab.research.google.com/assets/colab-badge.svg\" alt=\"Open In Colab\"/></a>"
      ]
    },
    {
      "cell_type": "code",
      "execution_count": 1,
      "metadata": {
        "id": "Mqwkfbm-T29l"
      },
      "outputs": [],
      "source": [
        "import numpy as np "
      ]
    },
    {
      "cell_type": "code",
      "source": [
        "X = 2*np.random.rand(100,1)"
      ],
      "metadata": {
        "id": "fG18SKV_jXWm"
      },
      "execution_count": 2,
      "outputs": []
    },
    {
      "cell_type": "code",
      "source": [
        "y = 4+3*X+np.random.rand(100,1)"
      ],
      "metadata": {
        "id": "gHtUW5QPjdqG"
      },
      "execution_count": 4,
      "outputs": []
    },
    {
      "cell_type": "markdown",
      "source": [
        "Normal Form of linear Regression "
      ],
      "metadata": {
        "id": "PPMnKmztHuV1"
      }
    },
    {
      "cell_type": "markdown",
      "source": [
        "![image.png](data:image/png;base64,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)"
      ],
      "metadata": {
        "id": "3bXBYV1JHse0"
      }
    },
    {
      "cell_type": "code",
      "source": [
        "X_b = np.c_[np.ones((100,1)),X]\n",
        "theta_best = np.linalg.inv(X_b.T.dot(X_b)).dot(X_b.T).dot(y)\n",
        "theta_best"
      ],
      "metadata": {
        "colab": {
          "base_uri": "https://localhost:8080/"
        },
        "id": "OEkWi0Dlje0u",
        "outputId": "b4bc2d37-2de5-4313-ce2d-5c6e330c3d1f"
      },
      "execution_count": 17,
      "outputs": [
        {
          "output_type": "execute_result",
          "data": {
            "text/plain": [
              "array([[4.53119718],\n",
              "       [2.97095867]])"
            ]
          },
          "metadata": {},
          "execution_count": 17
        }
      ]
    },
    {
      "cell_type": "code",
      "source": [
        "X_new = np.array([[0],[2]])\n",
        "X_new_b = np.c_[np.ones((2,1)),X_new]\n",
        "y_predict = X_new_b.dot(theta_best)\n",
        "y_predict"
      ],
      "metadata": {
        "colab": {
          "base_uri": "https://localhost:8080/"
        },
        "id": "9p34oBlYlWAe",
        "outputId": "10365f0a-8a5e-41ca-d7fa-17e55205c5ad"
      },
      "execution_count": 23,
      "outputs": [
        {
          "output_type": "execute_result",
          "data": {
            "text/plain": [
              "array([[ 4.53119718],\n",
              "       [10.47311451]])"
            ]
          },
          "metadata": {},
          "execution_count": 23
        }
      ]
    },
    {
      "cell_type": "code",
      "source": [
        "import matplotlib.pyplot as plt \n",
        "plt.plot(X_new,y_predict,'r-')\n",
        "plt.plot(X,y,'b.')\n",
        "plt.show()"
      ],
      "metadata": {
        "colab": {
          "base_uri": "https://localhost:8080/",
          "height": 265
        },
        "id": "dPQvp6eq8m-w",
        "outputId": "f4f2aaf2-9dbb-40a7-863c-809ee940c85a"
      },
      "execution_count": 24,
      "outputs": [
        {
          "output_type": "display_data",
          "data": {
            "text/plain": [
              "<Figure size 432x288 with 1 Axes>"
            ],
            "image/png": "[encoded data removed]"
          },
          "metadata": {
            "needs_background": "light"
          }
        }
      ]
    },
    {
      "cell_type": "markdown",
      "source": [
        "The equivalent code using Scikit-Learn looks like this"
      ],
      "metadata": {
        "id": "_8Jdgw_e9tcH"
      }
    },
    {
      "cell_type": "code",
      "source": [
        "from sklearn.linear_model import LinearRegression\n",
        "lr = LinearRegression()\n",
        "model = lr.fit(X,y)\n",
        "model.intercept_,model.coef_"
      ],
      "metadata": {
        "colab": {
          "base_uri": "https://localhost:8080/"
        },
        "id": "Dusmkaul82ri",
        "outputId": "783fbe7d-6a6b-4c71-ee21-2d663534b71f"
      },
      "execution_count": 25,
      "outputs": [
        {
          "output_type": "execute_result",
          "data": {
            "text/plain": [
              "(array([4.53119718]), array([[2.97095867]]))"
            ]
          },
          "metadata": {},
          "execution_count": 25
        }
      ]
    },
    {
      "cell_type": "code",
      "source": [
        "model.predict(X_new)"
      ],
      "metadata": {
        "colab": {
          "base_uri": "https://localhost:8080/"
        },
        "id": "pxvrAqw89QcO",
        "outputId": "64c419b8-c3a0-49e1-db16-6c9c0ca7cc00"
      },
      "execution_count": 26,
      "outputs": [
        {
          "output_type": "execute_result",
          "data": {
            "text/plain": [
              "array([[ 4.53119718],\n",
              "       [10.47311451]])"
            ]
          },
          "metadata": {},
          "execution_count": 26
        }
      ]
    },
    {
      "cell_type": "markdown",
      "source": [
        "Linear Regression Using Batch Gradiant "
      ],
      "metadata": {
        "id": "m1JYOmiK9YNs"
      }
    },
    {
      "cell_type": "code",
      "source": [
        "eta = 0.1\n",
        "n_iterations = 1000\n",
        "m = 100\n",
        "theta = np.random.randn(2,1)\n",
        "for iterations in range(n_iterations):\n",
        "  gradiant = 2/m*X_b.T.dot(X_b.dot(theta)-y)\n",
        "  theta = theta - eta*gradiant"
      ],
      "metadata": {
        "id": "cRLACkYCCr0d"
      },
      "execution_count": 28,
      "outputs": []
    },
    {
      "cell_type": "code",
      "source": [
        "theta"
      ],
      "metadata": {
        "colab": {
          "base_uri": "https://localhost:8080/"
        },
        "id": "unN8syLHDZSb",
        "outputId": "a6bbad46-6d13-47ce-b4e5-5eae095fed23"
      },
      "execution_count": 29,
      "outputs": [
        {
          "output_type": "execute_result",
          "data": {
            "text/plain": [
              "array([[4.53119718],\n",
              "       [2.97095867]])"
            ]
          },
          "metadata": {},
          "execution_count": 29
        }
      ]
    },
    {
      "cell_type": "code",
      "source": [
        "X_new_b.dot(theta)"
      ],
      "metadata": {
        "colab": {
          "base_uri": "https://localhost:8080/"
        },
        "id": "ialbFbxvDj3p",
        "outputId": "f26a7a26-21d3-4217-c883-0c1866916164"
      },
      "execution_count": 30,
      "outputs": [
        {
          "output_type": "execute_result",
          "data": {
            "text/plain": [
              "array([[ 4.53119718],\n",
              "       [10.47311451]])"
            ]
          },
          "metadata": {},
          "execution_count": 30
        }
      ]
    },
    {
      "cell_type": "code",
      "source": [
        "theta_path_bgd = []\n",
        "\n",
        "def plot_gradient_descent(theta, eta, theta_path=None):\n",
        "    m = len(X_b)\n",
        "    plt.plot(X, y, \"b.\")\n",
        "    n_iterations = 1000\n",
        "    for iteration in range(n_iterations):\n",
        "        if iteration < 10:\n",
        "            y_predict = X_new_b.dot(theta)\n",
        "            style = \"b-\" if iteration > 0 else \"r--\"\n",
        "            plt.plot(X_new, y_predict, style)\n",
        "        gradients = 2/m * X_b.T.dot(X_b.dot(theta) - y)\n",
        "        theta = theta - eta * gradients\n",
        "        if theta_path is not None:\n",
        "            theta_path.append(theta)\n",
        "    plt.xlabel(\"$x_1$\", fontsize=18)\n",
        "    plt.axis([0, 2, 0, 15])\n",
        "    plt.title(r\"$\\eta = {}$\".format(eta), fontsize=16)"
      ],
      "metadata": {
        "id": "I9jnThtnDrrw"
      },
      "execution_count": 31,
      "outputs": []
    },
    {
      "cell_type": "code",
      "source": [
        "np.random.seed(42)\n",
        "theta = np.random.randn(2,1)  # random initialization\n",
        "\n",
        "plt.figure(figsize=(10,4))\n",
        "plt.subplot(131); plot_gradient_descent(theta, eta=0.02)\n",
        "plt.ylabel(\"$y$\", rotation=0, fontsize=18)\n",
        "plt.subplot(132); plot_gradient_descent(theta, eta=0.1, theta_path=theta_path_bgd)\n",
        "plt.subplot(133); plot_gradient_descent(theta, eta=0.5)\n",
        "\n",
        "plt.show()"
      ],
      "metadata": {
        "colab": {
          "base_uri": "https://localhost:8080/",
          "height": 307
        },
        "id": "vzTd9N1JEm0W",
        "outputId": "ea4b0bc2-dbcc-4c26-e6df-dd5cdf2fb4d4"
      },
      "execution_count": 33,
      "outputs": [
        {
          "output_type": "display_data",
          "data": {
            "text/plain": [
              "<Figure size 720x288 with 3 Axes>"
            ],
            "image/png": "[encoded data removed]"
          },
          "metadata": {
            "needs_background": "light"
          }
        }
      ]
    },
    {
      "cell_type": "markdown",
      "source": [
        "Linear Regression Using Stochastic Gradiant Descent"
      ],
      "metadata": {
        "id": "RWuClpTTGd9n"
      }
    },
    {
      "cell_type": "code",
      "source": [
        "from sklearn.linear_model import SGDRegressor\n",
        "sgd_reg = SGDRegressor(max_iter=50,penalty=None, eta0=0.1, random_state=42)\n",
        "sgd_reg.fit(X, y.ravel())"
      ],
      "metadata": {
        "colab": {
          "base_uri": "https://localhost:8080/",
          "height": 75
        },
        "id": "WuHwictSEpuZ",
        "outputId": "61bd0234-0b4d-466b-8387-f0346d3e22cc"
      },
      "execution_count": 35,
      "outputs": [
        {
          "output_type": "execute_result",
          "data": {
            "text/plain": [
              "SGDRegressor(eta0=0.1, max_iter=50, penalty=None, random_state=42)"
            ],
            "text/html": [
              "<style>#sk-container-id-1 {color: black;background-color: white;}#sk-container-id-1 pre{padding: 0;}#sk-container-id-1 div.sk-toggleable {background-color: white;}#sk-container-id-1 label.sk-toggleable__label {cursor: pointer;display: block;width: 100%;margin-bottom: 0;padding: 0.3em;box-sizing: border-box;text-align: center;}#sk-container-id-1 label.sk-toggleable__label-arrow:before {content: \"▸\";float: left;margin-right: 0.25em;color: #696969;}#sk-container-id-1 label.sk-toggleable__label-arrow:hover:before {color: black;}#sk-container-id-1 div.sk-estimator:hover label.sk-toggleable__label-arrow:before {color: black;}#sk-container-id-1 div.sk-toggleable__content {max-height: 0;max-width: 0;overflow: hidden;text-align: left;background-color: #f0f8ff;}#sk-container-id-1 div.sk-toggleable__content pre {margin: 0.2em;color: black;border-radius: 0.25em;background-color: #f0f8ff;}#sk-container-id-1 input.sk-toggleable__control:checked~div.sk-toggleable__content {max-height: 200px;max-width: 100%;overflow: auto;}#sk-container-id-1 input.sk-toggleable__control:checked~label.sk-toggleable__label-arrow:before {content: \"▾\";}#sk-container-id-1 div.sk-estimator input.sk-toggleable__control:checked~label.sk-toggleable__label {background-color: #d4ebff;}#sk-container-id-1 div.sk-label input.sk-toggleable__control:checked~label.sk-toggleable__label {background-color: #d4ebff;}#sk-container-id-1 input.sk-hidden--visually {border: 0;clip: rect(1px 1px 1px 1px);clip: rect(1px, 1px, 1px, 1px);height: 1px;margin: -1px;overflow: hidden;padding: 0;position: absolute;width: 1px;}#sk-container-id-1 div.sk-estimator {font-family: monospace;background-color: #f0f8ff;border: 1px dotted black;border-radius: 0.25em;box-sizing: border-box;margin-bottom: 0.5em;}#sk-container-id-1 div.sk-estimator:hover {background-color: #d4ebff;}#sk-container-id-1 div.sk-parallel-item::after {content: \"\";width: 100%;border-bottom: 1px solid gray;flex-grow: 1;}#sk-container-id-1 div.sk-label:hover label.sk-toggleable__label {background-color: #d4ebff;}#sk-container-id-1 div.sk-serial::before {content: \"\";position: absolute;border-left: 1px solid gray;box-sizing: border-box;top: 0;bottom: 0;left: 50%;z-index: 0;}#sk-container-id-1 div.sk-serial {display: flex;flex-direction: column;align-items: center;background-color: white;padding-right: 0.2em;padding-left: 0.2em;position: relative;}#sk-container-id-1 div.sk-item {position: relative;z-index: 1;}#sk-container-id-1 div.sk-parallel {display: flex;align-items: stretch;justify-content: center;background-color: white;position: relative;}#sk-container-id-1 div.sk-item::before, #sk-container-id-1 div.sk-parallel-item::before {content: \"\";position: absolute;border-left: 1px solid gray;box-sizing: border-box;top: 0;bottom: 0;left: 50%;z-index: -1;}#sk-container-id-1 div.sk-parallel-item {display: flex;flex-direction: column;z-index: 1;position: relative;background-color: white;}#sk-container-id-1 div.sk-parallel-item:first-child::after {align-self: flex-end;width: 50%;}#sk-container-id-1 div.sk-parallel-item:last-child::after {align-self: flex-start;width: 50%;}#sk-container-id-1 div.sk-parallel-item:only-child::after {width: 0;}#sk-container-id-1 div.sk-dashed-wrapped {border: 1px dashed gray;margin: 0 0.4em 0.5em 0.4em;box-sizing: border-box;padding-bottom: 0.4em;background-color: white;}#sk-container-id-1 div.sk-label label {font-family: monospace;font-weight: bold;display: inline-block;line-height: 1.2em;}#sk-container-id-1 div.sk-label-container {text-align: center;}#sk-container-id-1 div.sk-container {/* jupyter's `normalize.less` sets `[hidden] { display: none; }` but bootstrap.min.css set `[hidden] { display: none !important; }` so we also need the `!important` here to be able to override the default hidden behavior on the sphinx rendered scikit-learn.org. See: https://github.com/scikit-learn/scikit-learn/issues/21755 */display: inline-block !important;position: relative;}#sk-container-id-1 div.sk-text-repr-fallback {display: none;}</style><div id=\"sk-container-id-1\" class=\"sk-top-container\"><div class=\"sk-text-repr-fallback\"><pre>SGDRegressor(eta0=0.1, max_iter=50, penalty=None, random_state=42)</pre><b>In a Jupyter environment, please rerun this cell to show the HTML representation or trust the notebook. <br />On GitHub, the HTML representation is unable to render, please try loading this page with nbviewer.org.</b></div><div class=\"sk-container\" hidden><div class=\"sk-item\"><div class=\"sk-estimator sk-toggleable\"><input class=\"sk-toggleable__control sk-hidden--visually\" id=\"sk-estimator-id-1\" type=\"checkbox\" checked><label for=\"sk-estimator-id-1\" class=\"sk-toggleable__label sk-toggleable__label-arrow\">SGDRegressor</label><div class=\"sk-toggleable__content\"><pre>SGDRegressor(eta0=0.1, max_iter=50, penalty=None, random_state=42)</pre></div></div></div></div></div>"
            ]
          },
          "metadata": {},
          "execution_count": 35
        }
      ]
    },
    {
      "cell_type": "code",
      "source": [
        "sgd_reg.intercept_,sgd_reg.coef_"
      ],
      "metadata": {
        "colab": {
          "base_uri": "https://localhost:8080/"
        },
        "id": "mu1TXOOOFaLB",
        "outputId": "58547c8e-5517-4be5-ad17-99a789462f56"
      },
      "execution_count": 36,
      "outputs": [
        {
          "output_type": "execute_result",
          "data": {
            "text/plain": [
              "(array([4.50231309]), array([2.97088766]))"
            ]
          },
          "metadata": {},
          "execution_count": 36
        }
      ]
    },
    {
      "cell_type": "code",
      "source": [
        "sgd_reg.predict(X_new)"
      ],
      "metadata": {
        "colab": {
          "base_uri": "https://localhost:8080/"
        },
        "id": "wgT9OjEIFkNq",
        "outputId": "35c6e303-7f0b-4dbc-b9f7-3810f87a7558"
      },
      "execution_count": 38,
      "outputs": [
        {
          "output_type": "execute_result",
          "data": {
            "text/plain": [
              "array([ 4.50231309, 10.44408842])"
            ]
          },
          "metadata": {},
          "execution_count": 38
        }
      ]
    },
    {
      "cell_type": "code",
      "source": [],
      "metadata": {
        "id": "kI07wc59FotX"
      },
      "execution_count": null,
      "outputs": []
    }
  ]
}