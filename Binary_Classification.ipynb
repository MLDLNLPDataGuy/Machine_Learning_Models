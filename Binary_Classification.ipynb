{
  "nbformat": 4,
  "nbformat_minor": 0,
  "metadata": {
    "colab": {
      "provenance": [],
      "authorship_tag": "ABX9TyNfabrzkDJqfemqk2Faar39",
      "include_colab_link": true
    },
    "kernelspec": {
      "name": "python3",
      "display_name": "Python 3"
    },
    "language_info": {
      "name": "python"
    }
  },
  "cells": [
    {
      "cell_type": "markdown",
      "metadata": {
        "id": "view-in-github",
        "colab_type": "text"
      },
      "source": [
        "<a href=\"https://colab.research.google.com/github/SandeepMLDLNPL/Machine_Learning_Models/blob/main/Binary_Classification.ipynb\" target=\"_parent\"><img src=\"https://colab.research.google.com/assets/colab-badge.svg\" alt=\"Open In Colab\"/></a>"
      ]
    },
    {
      "cell_type": "code",
      "source": [
        "import tensorflow as tf\n",
        "from tensorflow import keras \n",
        "import pandas as pd \n",
        "import numpy as np\n",
        "import matplotlib.pyplot as plt \n",
        "from sklearn.preprocessing import StandardScaler\n",
        "from sklearn.preprocessing import LabelEncoder\n",
        "from sklearn.model_selection import train_test_split \n",
        "from sklearn.utils import shuffle"
      ],
      "metadata": {
        "id": "cSmUYau0X1Cc"
      },
      "execution_count": 51,
      "outputs": []
    },
    {
      "cell_type": "code",
      "source": [
        "data = pd.read_csv('/content/drive/MyDrive/Datasets/Churn_Modelling_DL.csv')"
      ],
      "metadata": {
        "id": "bDep49RmYlrc"
      },
      "execution_count": 52,
      "outputs": []
    },
    {
      "cell_type": "code",
      "source": [
        "data = shuffle(data)"
      ],
      "metadata": {
        "id": "DGbYKX8gYyHL"
      },
      "execution_count": 53,
      "outputs": []
    },
    {
      "cell_type": "code",
      "source": [
        "data.head()"
      ],
      "metadata": {
        "colab": {
          "base_uri": "https://localhost:8080/",
          "height": 270
        },
        "id": "uHp1wM3DY0MG",
        "outputId": "71f46ffe-cbf3-4620-ae90-9123b41f7dd7"
      },
      "execution_count": 54,
      "outputs": [
        {
          "output_type": "execute_result",
          "data": {
            "text/plain": [
              "      RowNumber  CustomerId   Surname  CreditScore Geography  Gender  Age  \\\n",
              "4118       4119    15782311      Feng          529    France    Male   28   \n",
              "7731       7732    15629273       Lin          638   Germany    Male   42   \n",
              "1191       1192    15686909      Lung          639   Germany    Male   27   \n",
              "4036       4037    15640034  Milligan          551    France    Male   42   \n",
              "8788       8789    15603247    Bruner          743   Germany  Female   35   \n",
              "\n",
              "      Tenure    Balance  NumOfProducts  HasCrCard  IsActiveMember  \\\n",
              "4118       9       0.00              2          1               1   \n",
              "7731       8  145177.84              1          1               0   \n",
              "1191       3  150795.81              1          0               1   \n",
              "4036       2  139561.46              1          1               0   \n",
              "8788       1  146781.24              1          1               0   \n",
              "\n",
              "      EstimatedSalary  Exited  \n",
              "4118         52545.24       0  \n",
              "7731        193471.74       1  \n",
              "1191         85208.93       0  \n",
              "4036         43435.43       1  \n",
              "8788        189307.70       0  "
            ],
            "text/html": [
              "\n",
              "  <div id=\"df-e884e5eb-b438-4cbb-965d-5278669a8ee4\">\n",
              "    <div class=\"colab-df-container\">\n",
              "      <div>\n",
              "<style scoped>\n",
              "    .dataframe tbody tr th:only-of-type {\n",
              "        vertical-align: middle;\n",
              "    }\n",
              "\n",
              "    .dataframe tbody tr th {\n",
              "        vertical-align: top;\n",
              "    }\n",
              "\n",
              "    .dataframe thead th {\n",
              "        text-align: right;\n",
              "    }\n",
              "</style>\n",
              "<table border=\"1\" class=\"dataframe\">\n",
              "  <thead>\n",
              "    <tr style=\"text-align: right;\">\n",
              "      <th></th>\n",
              "      <th>RowNumber</th>\n",
              "      <th>CustomerId</th>\n",
              "      <th>Surname</th>\n",
              "      <th>CreditScore</th>\n",
              "      <th>Geography</th>\n",
              "      <th>Gender</th>\n",
              "      <th>Age</th>\n",
              "      <th>Tenure</th>\n",
              "      <th>Balance</th>\n",
              "      <th>NumOfProducts</th>\n",
              "      <th>HasCrCard</th>\n",
              "      <th>IsActiveMember</th>\n",
              "      <th>EstimatedSalary</th>\n",
              "      <th>Exited</th>\n",
              "    </tr>\n",
              "  </thead>\n",
              "  <tbody>\n",
              "    <tr>\n",
              "      <th>4118</th>\n",
              "      <td>4119</td>\n",
              "      <td>15782311</td>\n",
              "      <td>Feng</td>\n",
              "      <td>529</td>\n",
              "      <td>France</td>\n",
              "      <td>Male</td>\n",
              "      <td>28</td>\n",
              "      <td>9</td>\n",
              "      <td>0.00</td>\n",
              "      <td>2</td>\n",
              "      <td>1</td>\n",
              "      <td>1</td>\n",
              "      <td>52545.24</td>\n",
              "      <td>0</td>\n",
              "    </tr>\n",
              "    <tr>\n",
              "      <th>7731</th>\n",
              "      <td>7732</td>\n",
              "      <td>15629273</td>\n",
              "      <td>Lin</td>\n",
              "      <td>638</td>\n",
              "      <td>Germany</td>\n",
              "      <td>Male</td>\n",
              "      <td>42</td>\n",
              "      <td>8</td>\n",
              "      <td>145177.84</td>\n",
              "      <td>1</td>\n",
              "      <td>1</td>\n",
              "      <td>0</td>\n",
              "      <td>193471.74</td>\n",
              "      <td>1</td>\n",
              "    </tr>\n",
              "    <tr>\n",
              "      <th>1191</th>\n",
              "      <td>1192</td>\n",
              "      <td>15686909</td>\n",
              "      <td>Lung</td>\n",
              "      <td>639</td>\n",
              "      <td>Germany</td>\n",
              "      <td>Male</td>\n",
              "      <td>27</td>\n",
              "      <td>3</td>\n",
              "      <td>150795.81</td>\n",
              "      <td>1</td>\n",
              "      <td>0</td>\n",
              "      <td>1</td>\n",
              "      <td>85208.93</td>\n",
              "      <td>0</td>\n",
              "    </tr>\n",
              "    <tr>\n",
              "      <th>4036</th>\n",
              "      <td>4037</td>\n",
              "      <td>15640034</td>\n",
              "      <td>Milligan</td>\n",
              "      <td>551</td>\n",
              "      <td>France</td>\n",
              "      <td>Male</td>\n",
              "      <td>42</td>\n",
              "      <td>2</td>\n",
              "      <td>139561.46</td>\n",
              "      <td>1</td>\n",
              "      <td>1</td>\n",
              "      <td>0</td>\n",
              "      <td>43435.43</td>\n",
              "      <td>1</td>\n",
              "    </tr>\n",
              "    <tr>\n",
              "      <th>8788</th>\n",
              "      <td>8789</td>\n",
              "      <td>15603247</td>\n",
              "      <td>Bruner</td>\n",
              "      <td>743</td>\n",
              "      <td>Germany</td>\n",
              "      <td>Female</td>\n",
              "      <td>35</td>\n",
              "      <td>1</td>\n",
              "      <td>146781.24</td>\n",
              "      <td>1</td>\n",
              "      <td>1</td>\n",
              "      <td>0</td>\n",
              "      <td>189307.70</td>\n",
              "      <td>0</td>\n",
              "    </tr>\n",
              "  </tbody>\n",
              "</table>\n",
              "</div>\n",
              "      <button class=\"colab-df-convert\" onclick=\"convertToInteractive('df-e884e5eb-b438-4cbb-965d-5278669a8ee4')\"\n",
              "              title=\"Convert this dataframe to an interactive table.\"\n",
              "              style=\"display:none;\">\n",
              "        \n",
              "  <svg xmlns=\"http://www.w3.org/2000/svg\" height=\"24px\"viewBox=\"0 0 24 24\"\n",
              "       width=\"24px\">\n",
              "    <path d=\"M0 0h24v24H0V0z\" fill=\"none\"/>\n",
              "    <path d=\"M18.56 5.44l.94 2.06.94-2.06 2.06-.94-2.06-.94-.94-2.06-.94 2.06-2.06.94zm-11 1L8.5 8.5l.94-2.06 2.06-.94-2.06-.94L8.5 2.5l-.94 2.06-2.06.94zm10 10l.94 2.06.94-2.06 2.06-.94-2.06-.94-.94-2.06-.94 2.06-2.06.94z\"/><path d=\"M17.41 7.96l-1.37-1.37c-.4-.4-.92-.59-1.43-.59-.52 0-1.04.2-1.43.59L10.3 9.45l-7.72 7.72c-.78.78-.78 2.05 0 2.83L4 21.41c.39.39.9.59 1.41.59.51 0 1.02-.2 1.41-.59l7.78-7.78 2.81-2.81c.8-.78.8-2.07 0-2.86zM5.41 20L4 18.59l7.72-7.72 1.47 1.35L5.41 20z\"/>\n",
              "  </svg>\n",
              "      </button>\n",
              "      \n",
              "  <style>\n",
              "    .colab-df-container {\n",
              "      display:flex;\n",
              "      flex-wrap:wrap;\n",
              "      gap: 12px;\n",
              "    }\n",
              "\n",
              "    .colab-df-convert {\n",
              "      background-color: #E8F0FE;\n",
              "      border: none;\n",
              "      border-radius: 50%;\n",
              "      cursor: pointer;\n",
              "      display: none;\n",
              "      fill: #1967D2;\n",
              "      height: 32px;\n",
              "      padding: 0 0 0 0;\n",
              "      width: 32px;\n",
              "    }\n",
              "\n",
              "    .colab-df-convert:hover {\n",
              "      background-color: #E2EBFA;\n",
              "      box-shadow: 0px 1px 2px rgba(60, 64, 67, 0.3), 0px 1px 3px 1px rgba(60, 64, 67, 0.15);\n",
              "      fill: #174EA6;\n",
              "    }\n",
              "\n",
              "    [theme=dark] .colab-df-convert {\n",
              "      background-color: #3B4455;\n",
              "      fill: #D2E3FC;\n",
              "    }\n",
              "\n",
              "    [theme=dark] .colab-df-convert:hover {\n",
              "      background-color: #434B5C;\n",
              "      box-shadow: 0px 1px 3px 1px rgba(0, 0, 0, 0.15);\n",
              "      filter: drop-shadow(0px 1px 2px rgba(0, 0, 0, 0.3));\n",
              "      fill: #FFFFFF;\n",
              "    }\n",
              "  </style>\n",
              "\n",
              "      <script>\n",
              "        const buttonEl =\n",
              "          document.querySelector('#df-e884e5eb-b438-4cbb-965d-5278669a8ee4 button.colab-df-convert');\n",
              "        buttonEl.style.display =\n",
              "          google.colab.kernel.accessAllowed ? 'block' : 'none';\n",
              "\n",
              "        async function convertToInteractive(key) {\n",
              "          const element = document.querySelector('#df-e884e5eb-b438-4cbb-965d-5278669a8ee4');\n",
              "          const dataTable =\n",
              "            await google.colab.kernel.invokeFunction('convertToInteractive',\n",
              "                                                     [key], {});\n",
              "          if (!dataTable) return;\n",
              "\n",
              "          const docLinkHtml = 'Like what you see? Visit the ' +\n",
              "            '<a target=\"_blank\" href=https://colab.research.google.com/notebooks/data_table.ipynb>data table notebook</a>'\n",
              "            + ' to learn more about interactive tables.';\n",
              "          element.innerHTML = '';\n",
              "          dataTable['output_type'] = 'display_data';\n",
              "          await google.colab.output.renderOutput(dataTable, element);\n",
              "          const docLink = document.createElement('div');\n",
              "          docLink.innerHTML = docLinkHtml;\n",
              "          element.appendChild(docLink);\n",
              "        }\n",
              "      </script>\n",
              "    </div>\n",
              "  </div>\n",
              "  "
            ]
          },
          "metadata": {},
          "execution_count": 54
        }
      ]
    },
    {
      "cell_type": "code",
      "source": [
        "data.shape"
      ],
      "metadata": {
        "colab": {
          "base_uri": "https://localhost:8080/"
        },
        "id": "wg_N6Vo7ZHH2",
        "outputId": "c76d8e88-1d4b-43dc-9639-7abcff28262a"
      },
      "execution_count": 55,
      "outputs": [
        {
          "output_type": "execute_result",
          "data": {
            "text/plain": [
              "(10000, 14)"
            ]
          },
          "metadata": {},
          "execution_count": 55
        }
      ]
    },
    {
      "cell_type": "code",
      "source": [
        "data.isnull().sum()"
      ],
      "metadata": {
        "colab": {
          "base_uri": "https://localhost:8080/"
        },
        "id": "uCUReYbvZep5",
        "outputId": "b57dbef7-6fa7-471a-af53-706d104f022b"
      },
      "execution_count": 56,
      "outputs": [
        {
          "output_type": "execute_result",
          "data": {
            "text/plain": [
              "RowNumber          0\n",
              "CustomerId         0\n",
              "Surname            0\n",
              "CreditScore        0\n",
              "Geography          0\n",
              "Gender             0\n",
              "Age                0\n",
              "Tenure             0\n",
              "Balance            0\n",
              "NumOfProducts      0\n",
              "HasCrCard          0\n",
              "IsActiveMember     0\n",
              "EstimatedSalary    0\n",
              "Exited             0\n",
              "dtype: int64"
            ]
          },
          "metadata": {},
          "execution_count": 56
        }
      ]
    },
    {
      "cell_type": "code",
      "source": [
        "X = data.drop(['RowNumber','CustomerId','Surname','Exited'],axis = 1)\n",
        "y = data['Exited']"
      ],
      "metadata": {
        "id": "HH20W2WUaVdv"
      },
      "execution_count": 57,
      "outputs": []
    },
    {
      "cell_type": "code",
      "source": [
        "X.Geography.unique()"
      ],
      "metadata": {
        "colab": {
          "base_uri": "https://localhost:8080/"
        },
        "id": "gxD54EOxaulc",
        "outputId": "4caacfda-47a4-43f7-b403-f03dcd13d7bc"
      },
      "execution_count": 58,
      "outputs": [
        {
          "output_type": "execute_result",
          "data": {
            "text/plain": [
              "array(['France', 'Germany', 'Spain'], dtype=object)"
            ]
          },
          "metadata": {},
          "execution_count": 58
        }
      ]
    },
    {
      "cell_type": "code",
      "source": [
        "label = LabelEncoder()\n",
        "X['Geography'] = label.fit_transform(X['Geography'])\n",
        "X['Gender'] = label.fit_transform(X['Gender'])"
      ],
      "metadata": {
        "id": "6-r4rZgPawUq"
      },
      "execution_count": 59,
      "outputs": []
    },
    {
      "cell_type": "code",
      "source": [
        "X = pd.get_dummies(X,drop_first=True,columns=['Geography'])"
      ],
      "metadata": {
        "id": "jcMjEuRtcGJe"
      },
      "execution_count": 60,
      "outputs": []
    },
    {
      "cell_type": "code",
      "source": [
        "scaler = StandardScaler()\n",
        "X = scaler.fit_transform(X)"
      ],
      "metadata": {
        "id": "S3yKSDabcJDD"
      },
      "execution_count": 61,
      "outputs": []
    },
    {
      "cell_type": "code",
      "source": [
        "X_train,X_test,y_train,y_test = train_test_split(X,y,test_size = 0.3)"
      ],
      "metadata": {
        "id": "lQidgux1dLKj"
      },
      "execution_count": 62,
      "outputs": []
    },
    {
      "cell_type": "code",
      "source": [
        "X_train.shape[1]"
      ],
      "metadata": {
        "colab": {
          "base_uri": "https://localhost:8080/"
        },
        "id": "wQPRp_FdeK4B",
        "outputId": "38eb54bd-2284-4a7d-e053-0b3c99abaeba"
      },
      "execution_count": 63,
      "outputs": [
        {
          "output_type": "execute_result",
          "data": {
            "text/plain": [
              "11"
            ]
          },
          "metadata": {},
          "execution_count": 63
        }
      ]
    },
    {
      "cell_type": "code",
      "source": [
        "model = keras.Sequential()\n",
        "model.add(keras.layers.Dense(128, activation = 'relu',input_dim = X_train.shape[1]))\n",
        "model.add(keras.layers.Dense(64,activation= 'relu'))\n",
        "model.add(keras.layers.Dense(32,activation= 'relu'))\n",
        "model.add(keras.layers.Dense(1,activation= 'sigmoid'))"
      ],
      "metadata": {
        "id": "ySngRJdzesHS"
      },
      "execution_count": 64,
      "outputs": []
    },
    {
      "cell_type": "code",
      "source": [
        "model.summary()"
      ],
      "metadata": {
        "colab": {
          "base_uri": "https://localhost:8080/"
        },
        "id": "cfcElphci6sH",
        "outputId": "3f6a4de4-18cb-4dce-9789-d299e880b2da"
      },
      "execution_count": 65,
      "outputs": [
        {
          "output_type": "stream",
          "name": "stdout",
          "text": [
            "Model: \"sequential_1\"\n",
            "_________________________________________________________________\n",
            " Layer (type)                Output Shape              Param #   \n",
            "=================================================================\n",
            " dense_4 (Dense)             (None, 128)               1536      \n",
            "                                                                 \n",
            " dense_5 (Dense)             (None, 64)                8256      \n",
            "                                                                 \n",
            " dense_6 (Dense)             (None, 32)                2080      \n",
            "                                                                 \n",
            " dense_7 (Dense)             (None, 1)                 33        \n",
            "                                                                 \n",
            "=================================================================\n",
            "Total params: 11,905\n",
            "Trainable params: 11,905\n",
            "Non-trainable params: 0\n",
            "_________________________________________________________________\n"
          ]
        }
      ]
    },
    {
      "cell_type": "code",
      "source": [
        "model.compile(loss = 'binary_crossentropy',\n",
        "              optimizer = 'adam',metrics = ['accuracy'])"
      ],
      "metadata": {
        "id": "k0yGG1yGi_5E"
      },
      "execution_count": 66,
      "outputs": []
    },
    {
      "cell_type": "code",
      "source": [
        "import datetime,os\n",
        "logdir = os.path.join(\"log\",datetime.datetime.now().strftime(\"%Y%M%D-%H%M%S\"))"
      ],
      "metadata": {
        "id": "1caxhI96svNR"
      },
      "execution_count": 67,
      "outputs": []
    },
    {
      "cell_type": "code",
      "source": [
        "tensorboard_callbacks = tf.keras.callbacks.TensorBoard(logdir,histogram_freq = 1)"
      ],
      "metadata": {
        "id": "wZqO5-3JtPYF"
      },
      "execution_count": 68,
      "outputs": []
    },
    {
      "cell_type": "code",
      "source": [
        "r = model.fit(X_train,y_train,batch_size = 32,epochs = 50,validation_data=(X_test,y_test),\n",
        "              callbacks = [tensorboard_callbacks])"
      ],
      "metadata": {
        "colab": {
          "base_uri": "https://localhost:8080/"
        },
        "id": "2fH6jSki-amB",
        "outputId": "c4a6553a-9eed-4ad5-fad0-e434704d67c6"
      },
      "execution_count": 69,
      "outputs": [
        {
          "output_type": "stream",
          "name": "stdout",
          "text": [
            "Epoch 1/50\n",
            "219/219 [==============================] - 3s 7ms/step - loss: 0.4276 - accuracy: 0.8217 - val_loss: 0.3743 - val_accuracy: 0.8550\n",
            "Epoch 2/50\n",
            "219/219 [==============================] - 1s 6ms/step - loss: 0.3559 - accuracy: 0.8543 - val_loss: 0.3467 - val_accuracy: 0.8643\n",
            "Epoch 3/50\n",
            "219/219 [==============================] - 1s 3ms/step - loss: 0.3438 - accuracy: 0.8581 - val_loss: 0.3394 - val_accuracy: 0.8617\n",
            "Epoch 4/50\n",
            "219/219 [==============================] - 1s 4ms/step - loss: 0.3361 - accuracy: 0.8593 - val_loss: 0.3532 - val_accuracy: 0.8547\n",
            "Epoch 5/50\n",
            "219/219 [==============================] - 1s 4ms/step - loss: 0.3307 - accuracy: 0.8631 - val_loss: 0.3415 - val_accuracy: 0.8587\n",
            "Epoch 6/50\n",
            "219/219 [==============================] - 1s 3ms/step - loss: 0.3282 - accuracy: 0.8616 - val_loss: 0.3408 - val_accuracy: 0.8593\n",
            "Epoch 7/50\n",
            "219/219 [==============================] - 1s 3ms/step - loss: 0.3216 - accuracy: 0.8699 - val_loss: 0.3419 - val_accuracy: 0.8573\n",
            "Epoch 8/50\n",
            "219/219 [==============================] - 1s 3ms/step - loss: 0.3186 - accuracy: 0.8669 - val_loss: 0.3411 - val_accuracy: 0.8627\n",
            "Epoch 9/50\n",
            "219/219 [==============================] - 1s 3ms/step - loss: 0.3152 - accuracy: 0.8694 - val_loss: 0.3498 - val_accuracy: 0.8563\n",
            "Epoch 10/50\n",
            "219/219 [==============================] - 1s 3ms/step - loss: 0.3115 - accuracy: 0.8717 - val_loss: 0.3530 - val_accuracy: 0.8533\n",
            "Epoch 11/50\n",
            "219/219 [==============================] - 1s 3ms/step - loss: 0.3097 - accuracy: 0.8706 - val_loss: 0.3439 - val_accuracy: 0.8583\n",
            "Epoch 12/50\n",
            "219/219 [==============================] - 1s 4ms/step - loss: 0.3055 - accuracy: 0.8736 - val_loss: 0.3465 - val_accuracy: 0.8597\n",
            "Epoch 13/50\n",
            "219/219 [==============================] - 1s 4ms/step - loss: 0.3028 - accuracy: 0.8754 - val_loss: 0.3524 - val_accuracy: 0.8577\n",
            "Epoch 14/50\n",
            "219/219 [==============================] - 1s 3ms/step - loss: 0.2984 - accuracy: 0.8761 - val_loss: 0.3504 - val_accuracy: 0.8557\n",
            "Epoch 15/50\n",
            "219/219 [==============================] - 1s 3ms/step - loss: 0.2936 - accuracy: 0.8770 - val_loss: 0.3590 - val_accuracy: 0.8543\n",
            "Epoch 16/50\n",
            "219/219 [==============================] - 1s 5ms/step - loss: 0.2921 - accuracy: 0.8781 - val_loss: 0.3521 - val_accuracy: 0.8587\n",
            "Epoch 17/50\n",
            "219/219 [==============================] - 1s 6ms/step - loss: 0.2882 - accuracy: 0.8796 - val_loss: 0.3540 - val_accuracy: 0.8563\n",
            "Epoch 18/50\n",
            "219/219 [==============================] - 1s 6ms/step - loss: 0.2837 - accuracy: 0.8820 - val_loss: 0.3637 - val_accuracy: 0.8583\n",
            "Epoch 19/50\n",
            "219/219 [==============================] - 1s 5ms/step - loss: 0.2803 - accuracy: 0.8807 - val_loss: 0.3708 - val_accuracy: 0.8567\n",
            "Epoch 20/50\n",
            "219/219 [==============================] - 1s 4ms/step - loss: 0.2795 - accuracy: 0.8849 - val_loss: 0.3681 - val_accuracy: 0.8567\n",
            "Epoch 21/50\n",
            "219/219 [==============================] - 1s 3ms/step - loss: 0.2719 - accuracy: 0.8857 - val_loss: 0.3805 - val_accuracy: 0.8507\n",
            "Epoch 22/50\n",
            "219/219 [==============================] - 1s 3ms/step - loss: 0.2741 - accuracy: 0.8849 - val_loss: 0.3780 - val_accuracy: 0.8547\n",
            "Epoch 23/50\n",
            "219/219 [==============================] - 1s 3ms/step - loss: 0.2662 - accuracy: 0.8904 - val_loss: 0.3729 - val_accuracy: 0.8540\n",
            "Epoch 24/50\n",
            "219/219 [==============================] - 1s 3ms/step - loss: 0.2637 - accuracy: 0.8876 - val_loss: 0.3823 - val_accuracy: 0.8533\n",
            "Epoch 25/50\n",
            "219/219 [==============================] - 1s 3ms/step - loss: 0.2596 - accuracy: 0.8903 - val_loss: 0.3847 - val_accuracy: 0.8547\n",
            "Epoch 26/50\n",
            "219/219 [==============================] - 1s 3ms/step - loss: 0.2568 - accuracy: 0.8933 - val_loss: 0.3843 - val_accuracy: 0.8490\n",
            "Epoch 27/50\n",
            "219/219 [==============================] - 1s 4ms/step - loss: 0.2543 - accuracy: 0.8926 - val_loss: 0.3843 - val_accuracy: 0.8510\n",
            "Epoch 28/50\n",
            "219/219 [==============================] - 1s 4ms/step - loss: 0.2484 - accuracy: 0.8944 - val_loss: 0.3969 - val_accuracy: 0.8527\n",
            "Epoch 29/50\n",
            "219/219 [==============================] - 1s 4ms/step - loss: 0.2432 - accuracy: 0.8954 - val_loss: 0.4051 - val_accuracy: 0.8503\n",
            "Epoch 30/50\n",
            "219/219 [==============================] - 1s 3ms/step - loss: 0.2421 - accuracy: 0.8951 - val_loss: 0.4072 - val_accuracy: 0.8523\n",
            "Epoch 31/50\n",
            "219/219 [==============================] - 1s 3ms/step - loss: 0.2386 - accuracy: 0.8983 - val_loss: 0.3991 - val_accuracy: 0.8457\n",
            "Epoch 32/50\n",
            "219/219 [==============================] - 1s 4ms/step - loss: 0.2336 - accuracy: 0.9013 - val_loss: 0.4174 - val_accuracy: 0.8483\n",
            "Epoch 33/50\n",
            "219/219 [==============================] - 1s 6ms/step - loss: 0.2290 - accuracy: 0.9013 - val_loss: 0.4107 - val_accuracy: 0.8407\n",
            "Epoch 34/50\n",
            "219/219 [==============================] - 1s 6ms/step - loss: 0.2260 - accuracy: 0.9010 - val_loss: 0.4299 - val_accuracy: 0.8480\n",
            "Epoch 35/50\n",
            "219/219 [==============================] - 3s 13ms/step - loss: 0.2263 - accuracy: 0.9037 - val_loss: 0.4228 - val_accuracy: 0.8400\n",
            "Epoch 36/50\n",
            "219/219 [==============================] - 1s 3ms/step - loss: 0.2208 - accuracy: 0.9049 - val_loss: 0.4469 - val_accuracy: 0.8407\n",
            "Epoch 37/50\n",
            "219/219 [==============================] - 1s 3ms/step - loss: 0.2134 - accuracy: 0.9121 - val_loss: 0.4466 - val_accuracy: 0.8343\n",
            "Epoch 38/50\n",
            "219/219 [==============================] - 1s 3ms/step - loss: 0.2104 - accuracy: 0.9094 - val_loss: 0.4349 - val_accuracy: 0.8337\n",
            "Epoch 39/50\n",
            "219/219 [==============================] - 1s 3ms/step - loss: 0.2099 - accuracy: 0.9114 - val_loss: 0.4482 - val_accuracy: 0.8390\n",
            "Epoch 40/50\n",
            "219/219 [==============================] - 1s 4ms/step - loss: 0.2140 - accuracy: 0.9096 - val_loss: 0.4587 - val_accuracy: 0.8447\n",
            "Epoch 41/50\n",
            "219/219 [==============================] - 1s 4ms/step - loss: 0.2020 - accuracy: 0.9151 - val_loss: 0.4627 - val_accuracy: 0.8433\n",
            "Epoch 42/50\n",
            "219/219 [==============================] - 1s 4ms/step - loss: 0.1993 - accuracy: 0.9171 - val_loss: 0.4604 - val_accuracy: 0.8390\n",
            "Epoch 43/50\n",
            "219/219 [==============================] - 1s 3ms/step - loss: 0.1954 - accuracy: 0.9141 - val_loss: 0.4731 - val_accuracy: 0.8227\n",
            "Epoch 44/50\n",
            "219/219 [==============================] - 1s 3ms/step - loss: 0.1954 - accuracy: 0.9159 - val_loss: 0.4635 - val_accuracy: 0.8440\n",
            "Epoch 45/50\n",
            "219/219 [==============================] - 1s 3ms/step - loss: 0.1857 - accuracy: 0.9199 - val_loss: 0.5057 - val_accuracy: 0.8500\n",
            "Epoch 46/50\n",
            "219/219 [==============================] - 1s 3ms/step - loss: 0.1851 - accuracy: 0.9210 - val_loss: 0.4892 - val_accuracy: 0.8353\n",
            "Epoch 47/50\n",
            "219/219 [==============================] - 1s 4ms/step - loss: 0.1803 - accuracy: 0.9243 - val_loss: 0.5231 - val_accuracy: 0.8193\n",
            "Epoch 48/50\n",
            "219/219 [==============================] - 1s 6ms/step - loss: 0.1826 - accuracy: 0.9203 - val_loss: 0.5198 - val_accuracy: 0.8303\n",
            "Epoch 49/50\n",
            "219/219 [==============================] - 1s 6ms/step - loss: 0.1766 - accuracy: 0.9256 - val_loss: 0.4979 - val_accuracy: 0.8333\n",
            "Epoch 50/50\n",
            "219/219 [==============================] - 1s 5ms/step - loss: 0.1709 - accuracy: 0.9303 - val_loss: 0.5304 - val_accuracy: 0.8443\n"
          ]
        }
      ]
    },
    {
      "cell_type": "code",
      "source": [
        "test_scores = model.evaluate(X_test,y_test)\n",
        "test_scores"
      ],
      "metadata": {
        "colab": {
          "base_uri": "https://localhost:8080/"
        },
        "id": "MjI6yU95-516",
        "outputId": "71affbd7-1dd2-4f3c-9c1f-f55537fe54ac"
      },
      "execution_count": 71,
      "outputs": [
        {
          "output_type": "stream",
          "name": "stdout",
          "text": [
            "94/94 [==============================] - 0s 2ms/step - loss: 0.5304 - accuracy: 0.8443\n"
          ]
        },
        {
          "output_type": "execute_result",
          "data": {
            "text/plain": [
              "[0.5304269790649414, 0.8443333506584167]"
            ]
          },
          "metadata": {},
          "execution_count": 71
        }
      ]
    },
    {
      "cell_type": "code",
      "source": [
        "plt.plot(r.history['val_accuracy'])\n",
        "plt.plot(r.history['val_loss'])\n",
        "plt.show()"
      ],
      "metadata": {
        "colab": {
          "base_uri": "https://localhost:8080/",
          "height": 265
        },
        "id": "xAbaQx0Z_R3P",
        "outputId": "d85709f5-7619-4797-83d2-16b0430e2a80"
      },
      "execution_count": 72,
      "outputs": [
        {
          "output_type": "display_data",
          "data": {
            "text/plain": [
              "<Figure size 432x288 with 1 Axes>"
            ],
            "image/png": "[encoded data removed]"
          },
          "metadata": {
            "needs_background": "light"
          }
        }
      ]
    },
    {
      "cell_type": "code",
      "source": [
        "y_pred = model.predict(X_test)\n",
        "y_pred = np.unique(y_pred).round(1).astype('int')\n",
        "y_pred = np.array(y_pred)"
      ],
      "metadata": {
        "colab": {
          "base_uri": "https://localhost:8080/"
        },
        "id": "GJewflTiETVO",
        "outputId": "b913be60-942e-4e0d-e60a-138dccebd76c"
      },
      "execution_count": 110,
      "outputs": [
        {
          "output_type": "stream",
          "name": "stdout",
          "text": [
            "94/94 [==============================] - 0s 2ms/step\n"
          ]
        }
      ]
    },
    {
      "cell_type": "code",
      "source": [
        "y_pred"
      ],
      "metadata": {
        "colab": {
          "base_uri": "https://localhost:8080/"
        },
        "id": "DJ64ViomG-vk",
        "outputId": "842f1d8c-947c-4384-a72d-4ddc42f17438"
      },
      "execution_count": 111,
      "outputs": [
        {
          "output_type": "execute_result",
          "data": {
            "text/plain": [
              "array([0, 0, 0, ..., 1, 1, 1])"
            ]
          },
          "metadata": {},
          "execution_count": 111
        }
      ]
    },
    {
      "cell_type": "code",
      "source": [
        "y_test = y_test[:2982]"
      ],
      "metadata": {
        "id": "FgcALbm1G2V3"
      },
      "execution_count": 112,
      "outputs": []
    },
    {
      "cell_type": "code",
      "source": [
        "from sklearn.metrics import confusion_matrix\n",
        "cf = confusion_matrix(y_test,y_pred)"
      ],
      "metadata": {
        "id": "j1eSGGTT_8Ew"
      },
      "execution_count": 113,
      "outputs": []
    },
    {
      "cell_type": "code",
      "source": [
        "from mlxtend.plotting import plot_confusion_matrix\n",
        "plot_confusion_matrix(conf_mat = cf, cmap = plt.cm.hsv)"
      ],
      "metadata": {
        "colab": {
          "base_uri": "https://localhost:8080/",
          "height": 314
        },
        "id": "TEcyaoZtDMNt",
        "outputId": "c8adcfde-88b4-45c9-a8a9-4dd3b27e6f2e"
      },
      "execution_count": 114,
      "outputs": [
        {
          "output_type": "execute_result",
          "data": {
            "text/plain": [
              "(<Figure size 432x288 with 1 Axes>,\n",
              " <Axes: xlabel='predicted label', ylabel='true label'>)"
            ]
          },
          "metadata": {},
          "execution_count": 114
        },
        {
          "output_type": "display_data",
          "data": {
            "text/plain": [
              "<Figure size 432x288 with 1 Axes>"
            ],
            "image/png": "[encoded data removed]"
          },
          "metadata": {
            "needs_background": "light"
          }
        }
      ]
    },
    {
      "cell_type": "code",
      "source": [
        "from sklearn.metrics import accuracy_score\n",
        "accuracy_score(y_test, y_pred)"
      ],
      "metadata": {
        "colab": {
          "base_uri": "https://localhost:8080/"
        },
        "id": "cq78DOsgAbA3",
        "outputId": "bc2eb041-d231-4d58-c718-cd93b47c1962"
      },
      "execution_count": 115,
      "outputs": [
        {
          "output_type": "execute_result",
          "data": {
            "text/plain": [
              "0.7629107981220657"
            ]
          },
          "metadata": {},
          "execution_count": 115
        }
      ]
    },
    {
      "cell_type": "code",
      "source": [
        "customer = model.predict([[615, 1, 22, 5, 20000, 5, 1, 1, \n",
        "60000, 0, 0]])\n",
        "customer\n",
        "if customer[0] == 1:\n",
        " print (\"Customer is likely to leave\")\n",
        "else:\n",
        " print (\"Customer will stay\")"
      ],
      "metadata": {
        "colab": {
          "base_uri": "https://localhost:8080/"
        },
        "id": "czVl5yVzDHHk",
        "outputId": "9b45f0af-b42d-4c15-dda3-3aecc342ec25"
      },
      "execution_count": 116,
      "outputs": [
        {
          "output_type": "stream",
          "name": "stdout",
          "text": [
            "1/1 [==============================] - 0s 47ms/step\n",
            "Customer will stay\n"
          ]
        }
      ]
    },
    {
      "cell_type": "code",
      "source": [],
      "metadata": {
        "id": "nVeamODQE4xm"
      },
      "execution_count": null,
      "outputs": []
    }
  ]
}