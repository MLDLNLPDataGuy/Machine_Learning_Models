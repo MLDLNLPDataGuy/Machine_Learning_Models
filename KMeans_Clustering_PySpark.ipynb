{
  "nbformat": 4,
  "nbformat_minor": 0,
  "metadata": {
    "colab": {
      "provenance": [],
      "authorship_tag": "ABX9TyMSHsKjco0wvoGiKcxVLnNz",
      "include_colab_link": true
    },
    "kernelspec": {
      "name": "python3",
      "display_name": "Python 3"
    },
    "language_info": {
      "name": "python"
    }
  },
  "cells": [
    {
      "cell_type": "markdown",
      "metadata": {
        "id": "view-in-github",
        "colab_type": "text"
      },
      "source": [
        "<a href=\"https://colab.research.google.com/github/SandeepMLDLNPL/Machine_Learning_Models/blob/main/KMeans_Clustering_PySpark.ipynb\" target=\"_parent\"><img src=\"https://colab.research.google.com/assets/colab-badge.svg\" alt=\"Open In Colab\"/></a>"
      ]
    },
    {
      "cell_type": "code",
      "execution_count": null,
      "metadata": {
        "id": "HDmOM3lxnGBh"
      },
      "outputs": [],
      "source": [
        "pip install pyspark"
      ]
    },
    {
      "cell_type": "code",
      "source": [
        "import pyspark\n",
        "from pyspark.sql import SparkSession\n",
        "\n",
        "spark = SparkSession.builder.appName(\"Clustering\").getOrCreate()\n",
        "\n",
        "path = \"/content/customer_segmentation.csv\"\n",
        "\n",
        "df = spark.read.option(\"header\",'True').option('delimiter', ',').csv(path)\n",
        "df.show(5)"
      ],
      "metadata": {
        "colab": {
          "base_uri": "https://localhost:8080/"
        },
        "id": "M_dnqZo94MKi",
        "outputId": "0dd52b06-ea05-45f9-e77b-2e865d797776"
      },
      "execution_count": 78,
      "outputs": [
        {
          "output_type": "stream",
          "name": "stdout",
          "text": [
            "+---------+---------+--------------------+--------+---------------+---------+----------+--------------+\n",
            "|InvoiceNo|StockCode|         Description|Quantity|    InvoiceDate|UnitPrice|CustomerID|       Country|\n",
            "+---------+---------+--------------------+--------+---------------+---------+----------+--------------+\n",
            "|   536365|   85123A|WHITE HANGING HEA...|       6|12-01-2010 8:26|     2.55|     17850|United Kingdom|\n",
            "|   536365|    71053| WHITE METAL LANTERN|       6|12-01-2010 8:26|     3.39|     17850|United Kingdom|\n",
            "|   536365|   84406B|CREAM CUPID HEART...|       8|12-01-2010 8:26|     2.75|     17850|United Kingdom|\n",
            "|   536365|   84029G|KNITTED UNION FLA...|       6|12-01-2010 8:26|     3.39|     17850|United Kingdom|\n",
            "|   536365|   84029E|RED WOOLLY HOTTIE...|       6|12-01-2010 8:26|     3.39|     17850|United Kingdom|\n",
            "+---------+---------+--------------------+--------+---------------+---------+----------+--------------+\n",
            "only showing top 5 rows\n",
            "\n"
          ]
        }
      ]
    },
    {
      "cell_type": "code",
      "source": [
        "df = df.selectExpr(\"*\",\"Quantity*UnitPrice as Total_Bought\")\n",
        "df.show(3)\n"
      ],
      "metadata": {
        "colab": {
          "base_uri": "https://localhost:8080/"
        },
        "id": "nIZ_G6FN4Tgq",
        "outputId": "84f47eb4-90c3-4b01-ebb4-9bd9f9eb87b3"
      },
      "execution_count": 79,
      "outputs": [
        {
          "output_type": "stream",
          "name": "stdout",
          "text": [
            "+---------+---------+--------------------+--------+---------------+---------+----------+--------------+------------------+\n",
            "|InvoiceNo|StockCode|         Description|Quantity|    InvoiceDate|UnitPrice|CustomerID|       Country|      Total_Bought|\n",
            "+---------+---------+--------------------+--------+---------------+---------+----------+--------------+------------------+\n",
            "|   536365|   85123A|WHITE HANGING HEA...|       6|12-01-2010 8:26|     2.55|     17850|United Kingdom|15.299999999999999|\n",
            "|   536365|    71053| WHITE METAL LANTERN|       6|12-01-2010 8:26|     3.39|     17850|United Kingdom|             20.34|\n",
            "|   536365|   84406B|CREAM CUPID HEART...|       8|12-01-2010 8:26|     2.75|     17850|United Kingdom|              22.0|\n",
            "+---------+---------+--------------------+--------+---------------+---------+----------+--------------+------------------+\n",
            "only showing top 3 rows\n",
            "\n"
          ]
        }
      ]
    },
    {
      "cell_type": "code",
      "source": [
        "from pyspark.sql.functions import round,col\n",
        "customer_df = df.select(\"CustomerID\",\"Total_BOught\").groupBy(\"CustomerID\").sum(\"Total_Bought\").withColumnRenamed('sum(Total_BOught)','sum_Total_BOught')\n",
        "customer_df.show(5)"
      ],
      "metadata": {
        "colab": {
          "base_uri": "https://localhost:8080/"
        },
        "id": "1Q5P1jn47lpo",
        "outputId": "b2025b68-9654-41b0-8825-297c85f861a2"
      },
      "execution_count": 80,
      "outputs": [
        {
          "output_type": "stream",
          "name": "stdout",
          "text": [
            "+----------+------------------+\n",
            "|CustomerID|  sum_Total_BOught|\n",
            "+----------+------------------+\n",
            "|     16250|389.44000000000005|\n",
            "|     15574| 702.2500000000001|\n",
            "|     15555| 4758.199999999993|\n",
            "|     15271|2485.8199999999997|\n",
            "|     17714|             153.0|\n",
            "+----------+------------------+\n",
            "only showing top 5 rows\n",
            "\n"
          ]
        }
      ]
    },
    {
      "cell_type": "code",
      "source": [
        "from pyspark.sql.functions import * \n",
        "joindf = df.join(customer_df,'CustomerID')\n"
      ],
      "metadata": {
        "id": "wk2Qn7Kf9Nq2"
      },
      "execution_count": 81,
      "outputs": []
    },
    {
      "cell_type": "code",
      "source": [
        "from pyspark.ml import Pipeline\n",
        "from pyspark.ml.clustering import KMeans \n",
        "from pyspark.ml.feature import Normalizer \n",
        "from pyspark.ml.feature import OneHotEncoder\n",
        "from pyspark.ml.feature import QuantileDiscretizer\n",
        "from pyspark.ml.feature import StringIndexer\n",
        "from pyspark.ml.feature import VectorAssembler "
      ],
      "metadata": {
        "id": "6U_5F5GiTKug"
      },
      "execution_count": 82,
      "outputs": []
    },
    {
      "cell_type": "code",
      "source": [
        "stages = [StringIndexer(inputCol='StockCode',outputCol='Stock_code_indexed',handleInvalid='keep'),\n",
        "          OneHotEncoder(inputCol='Stock_code_indexed',outputCol='stock_code_encoded'),\n",
        "          StringIndexer(inputCol='Country',outputCol='country_indexed',handleInvalid='keep'),\n",
        "          OneHotEncoder(inputCol='country_indexed',outputCol='country_encoded'),\n",
        "          QuantileDiscretizer(numBuckets=3,inputCol='sum_Total_BOught',outputCol='Total_bought_index'),\n",
        "          VectorAssembler(inputCols=['stock_code_encoded','country_encoded','Total_bought_index'],\n",
        "                          outputCol='feature_raw'),\n",
        "          Normalizer(inputCol='feature_raw',outputCol='feature',p=1.0),\n",
        "          KMeans(featuresCol='feature').setK(3).setSeed(40)          \n",
        "          ]\n",
        "cluster_pipeline = Pipeline(stages=stages)\n",
        "model = cluster_pipeline.fit(joindf)"
      ],
      "metadata": {
        "id": "Fi4KIJOcVNrD"
      },
      "execution_count": 83,
      "outputs": []
    },
    {
      "cell_type": "code",
      "source": [
        "df_with_clusters = model.transform(joindf).cache()\n",
        "df_with_clusters"
      ],
      "metadata": {
        "colab": {
          "base_uri": "https://localhost:8080/"
        },
        "id": "fcpUsuktaeRq",
        "outputId": "2e1eca87-5770-4a43-fd35-f12e6c197eed"
      },
      "execution_count": 86,
      "outputs": [
        {
          "output_type": "execute_result",
          "data": {
            "text/plain": [
              "DataFrame[CustomerID: string, InvoiceNo: string, StockCode: string, Description: string, Quantity: string, InvoiceDate: string, UnitPrice: string, Country: string, Total_Bought: double, sum_Total_BOught: double, Stock_code_indexed: double, stock_code_encoded: vector, country_indexed: double, country_encoded: vector, Total_bought_index: double, feature_raw: vector, feature: vector, prediction: int]"
            ]
          },
          "metadata": {},
          "execution_count": 86
        }
      ]
    },
    {
      "cell_type": "code",
      "source": [
        "df_with_clusters.groupBy(\"prediction\").count().toPandas().plot(kind='pie',x='prediction', y='count')"
      ],
      "metadata": {
        "colab": {
          "base_uri": "https://localhost:8080/",
          "height": 265
        },
        "id": "25c-FRWlffUr",
        "outputId": "570b62a8-5089-4d55-a91b-98ba6b450e71"
      },
      "execution_count": 89,
      "outputs": [
        {
          "output_type": "execute_result",
          "data": {
            "text/plain": [
              "<matplotlib.axes._subplots.AxesSubplot at 0x7fb8cf928460>"
            ]
          },
          "metadata": {},
          "execution_count": 89
        },
        {
          "output_type": "display_data",
          "data": {
            "text/plain": [
              "<Figure size 432x288 with 1 Axes>"
            ],
            "image/png": "[encoded data removed]"
          },
          "metadata": {}
        }
      ]
    },
    {
      "cell_type": "code",
      "source": [
        "df_with_clusters.where(df_with_clusters.prediction==0).groupby('Country').count().show()"
      ],
      "metadata": {
        "colab": {
          "base_uri": "https://localhost:8080/"
        },
        "id": "0ktUAr0zyNaT",
        "outputId": "6e0808ff-bd27-4560-bc88-0ce21b94aef8"
      },
      "execution_count": 90,
      "outputs": [
        {
          "output_type": "stream",
          "name": "stdout",
          "text": [
            "+--------------+------+\n",
            "|       Country| count|\n",
            "+--------------+------+\n",
            "|United Kingdom|235153|\n",
            "+--------------+------+\n",
            "\n"
          ]
        }
      ]
    },
    {
      "cell_type": "code",
      "source": [
        "df_with_clusters.where(df_with_clusters.prediction==1).groupby('Country').count().show()"
      ],
      "metadata": {
        "colab": {
          "base_uri": "https://localhost:8080/"
        },
        "id": "WzysP5ld1Efh",
        "outputId": "bd4046ca-51a7-463c-c5d7-17eead7e4c8b"
      },
      "execution_count": 91,
      "outputs": [
        {
          "output_type": "stream",
          "name": "stdout",
          "text": [
            "+--------------+------+\n",
            "|       Country| count|\n",
            "+--------------+------+\n",
            "|United Kingdom|126725|\n",
            "+--------------+------+\n",
            "\n"
          ]
        }
      ]
    },
    {
      "cell_type": "code",
      "source": [
        "df_with_clusters.where(df_with_clusters.prediction==2).groupby('Country').count().show()"
      ],
      "metadata": {
        "colab": {
          "base_uri": "https://localhost:8080/"
        },
        "id": "XNlOe8ks1Lxp",
        "outputId": "6bf00d23-2613-4776-e9eb-2d587d952028"
      },
      "execution_count": 92,
      "outputs": [
        {
          "output_type": "stream",
          "name": "stdout",
          "text": [
            "+------------------+-----+\n",
            "|           Country|count|\n",
            "+------------------+-----+\n",
            "|            Sweden|  462|\n",
            "|         Singapore|  229|\n",
            "|           Germany| 9495|\n",
            "|            France| 8491|\n",
            "|            Greece|  146|\n",
            "|European Community|   61|\n",
            "|           Belgium| 2069|\n",
            "|           Finland|  695|\n",
            "|             Malta|  127|\n",
            "|       Unspecified|  244|\n",
            "|             Italy|  803|\n",
            "|              EIRE| 7485|\n",
            "|         Lithuania|   35|\n",
            "|            Norway| 1086|\n",
            "|             Spain| 2533|\n",
            "|           Denmark|  389|\n",
            "|           Iceland|  182|\n",
            "|            Israel|  250|\n",
            "|   Channel Islands|  758|\n",
            "|               USA|  291|\n",
            "+------------------+-----+\n",
            "only showing top 20 rows\n",
            "\n"
          ]
        }
      ]
    },
    {
      "cell_type": "code",
      "source": [],
      "metadata": {
        "id": "5jhXQd6W1OJB"
      },
      "execution_count": null,
      "outputs": []
    }
  ]
}